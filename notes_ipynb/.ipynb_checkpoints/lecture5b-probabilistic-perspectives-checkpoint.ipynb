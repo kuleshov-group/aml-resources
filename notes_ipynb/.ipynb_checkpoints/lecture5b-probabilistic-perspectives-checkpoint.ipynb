{
 "cells": [
  {
   "cell_type": "markdown",
   "metadata": {
    "colab_type": "text",
    "id": "i_f5u2x9nn6I",
    "slideshow": {
     "slide_type": "slide"
    }
   },
   "source": [
    "<left><img width=25% src=\"data:image/svg+xml;base64, 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\"></left>\n",
    "\n",
    "# Lecture 5b: Probabilistic Perspectives on ML Algorithms\n",
    "\n",
    "### Applied Machine Learning\n",
    "\n",
    "__Volodymyr Kuleshov__<br>Cornell Tech"
   ]
  },
  {
   "cell_type": "markdown",
   "metadata": {
    "slideshow": {
     "slide_type": "slide"
    }
   },
   "source": [
    "# Part 1: Probabilistic Linear Regression\n",
    "\n",
    "Previously, we derived *maximum likelihood learning* as a general way of learning machine models.\n",
    "\n",
    "We will now seehow the algorithms we've seen so far are special cases of this principle."
   ]
  },
  {
   "cell_type": "markdown",
   "metadata": {
    "slideshow": {
     "slide_type": "slide"
    }
   },
   "source": [
    "# Review: Probabilistic Models\n",
    "\n",
    "A probabilistic model is a probability distribution\n",
    "$$P(x,y) : \\mathcal{X} \\times \\mathcal{Y} \\to [0,1].$$\n",
    "This model can approximate the data distribution $P_\\text{data}(x,y)$."
   ]
  },
  {
   "cell_type": "markdown",
   "metadata": {
    "slideshow": {
     "slide_type": "fragment"
    }
   },
   "source": [
    "If we know $P(x,y)$, we can use the conditional $P(y|x)$ for prediction."
   ]
  },
  {
   "cell_type": "markdown",
   "metadata": {
    "slideshow": {
     "slide_type": "fragment"
    }
   },
   "source": [
    "Probabilistic models may also have *parameters* $\\theta \\in \\Theta$, which we denote as\n",
    "$$P_\\theta(x,y) : \\mathcal{X} \\times \\mathcal{Y} \\to [0,1].$$"
   ]
  },
  {
   "cell_type": "markdown",
   "metadata": {
    "slideshow": {
     "slide_type": "slide"
    }
   },
   "source": [
    "# Review: Conditional Maximum Likelihood\n",
    "\n",
    "A general approach of optimizing conditional models of the form $P_\\theta(y|x)$ is by minimizing expected KL divergence with respect to the data distribution:\n",
    "$$ \\min_\\theta \\mathbb{E}_{x \\sim \\mathbb{P}_\\text{data}} \\left[ D(P_\\text{data}(y|x) \\mid\\mid P_\\theta(y|x)) \\right]. $$"
   ]
  },
  {
   "cell_type": "markdown",
   "metadata": {
    "slideshow": {
     "slide_type": "fragment"
    }
   },
   "source": [
    "With a bit of math, we can show that the maximum likelihood objective becomes\n",
    "$$ \\max_\\theta \\mathbb{E}_{x, y \\sim \\mathbb{P}_\\text{data}} \\log P_\\theta(y|x). $$\n",
    "This is the principle of *conditional maximum likelihood*."
   ]
  },
  {
   "cell_type": "markdown",
   "metadata": {
    "slideshow": {
     "slide_type": "slide"
    }
   },
   "source": [
    "# Review: Least Squares\n",
    "\n",
    "Recall that the linear regression algorithm fits a linear model of the form\n",
    "$$ f(x) = \\sum_{j=0}^d \\theta_j \\cdot x_j = \\theta^\\top x. $$"
   ]
  },
  {
   "cell_type": "markdown",
   "metadata": {
    "slideshow": {
     "slide_type": "fragment"
    }
   },
   "source": [
    "It minimizes the mean squared error (MSE)\n",
    "$$J(\\theta)= \\frac{1}{2n} \\sum_{i=1}^n(y^{(i)}-\\theta^\\top x^{(i)})^2$$\n",
    "on a dataset $\\{(x^{(1)}, y^{(1)}), (x^{(2)}, y^{(2)}), \\ldots, (x^{(n)}, y^{(n)})\\}$."
   ]
  },
  {
   "cell_type": "markdown",
   "metadata": {
    "slideshow": {
     "slide_type": "subslide"
    }
   },
   "source": [
    "Is there a specific reason for us to be optimizing the mean squared error to fit our linear model?\n",
    "\n",
    "The answer to this can be found by looking at the algorithm from a probabilistic perspective."
   ]
  },
  {
   "cell_type": "markdown",
   "metadata": {
    "slideshow": {
     "slide_type": "slide"
    }
   },
   "source": [
    "# Probabilistic Least Squares\n",
    "\n",
    "Let's derive a probabilistic algorithm by defining a class of probabilistic models and use maximum likelihood as our objective."
   ]
  },
  {
   "cell_type": "markdown",
   "metadata": {
    "slideshow": {
     "slide_type": "fragment"
    }
   },
   "source": [
    "1. Let's choose our model family $\\mathcal{M}$ to be the set of Gaussian distributions of the form\n",
    "$$ p(y | x; \\theta) = \\frac{1}{\\sqrt{2\\pi}\\sigma} \\exp\\left( -\\frac{(y - \\theta^\\top x)^2}{2 \\sigma^2} \\right).$$\n",
    "Each model $\\mathcal{N}(y; \\mu(x), \\sigma)$ is a Gaussian with a standard deviation $\\sigma$ of one and a mean of $\\mu(x) = \\theta^\\top x$ that is parametrized by the parameters $\\theta$."
   ]
  },
  {
   "cell_type": "markdown",
   "metadata": {
    "slideshow": {
     "slide_type": "subslide"
    }
   },
   "source": [
    "2. We optimize the model using maximum likelihood. The log-likelihood function at a point $(x,y)$ equals\n",
    "\\begin{align*}\n",
    "\\log L(\\theta) = \\log p(y | x; \\theta) & = \\log \\frac{1}{\\sqrt{2\\pi}\\sigma} \\exp\\left( -\\frac{(y - \\theta^\\top x)^2}{2 \\sigma^2} \\right) \\\\\n",
    "& = -\\frac{(y - \\theta^\\top x)^2}{2 \\sigma^2} + \\text{const.}\n",
    "\\end{align*}"
   ]
  },
  {
   "cell_type": "markdown",
   "metadata": {
    "slideshow": {
     "slide_type": "fragment"
    }
   },
   "source": [
    "Note how this is a mean squared error (MSE) objective! \n",
    "\n",
    "Thus, minimizing MSE is equivalent to maximizing the log-likelihood of a Normal distribution $\\mathcal{N}(y; \\mu(x), \\sigma)$."
   ]
  },
  {
   "cell_type": "markdown",
   "metadata": {
    "slideshow": {
     "slide_type": "slide"
    }
   },
   "source": [
    "# Algorithm: Gaussian Ordinary Least Squares\n",
    "\n",
    "* __Type__: Supervised learning (regression)\n",
    "* __Model family__: Linear models\n",
    "* __Objective function__: Mean squared error\n",
    "* __Optimizer__: Normal equations\n",
    "* __Probabilistic interpretation__: Conditional Gaussian fit using max-likelihood."
   ]
  },
  {
   "cell_type": "markdown",
   "metadata": {
    "slideshow": {
     "slide_type": "slide"
    }
   },
   "source": [
    "# Extensions of Gaussian Least Squares\n",
    "\n",
    "This is an example of how we can interpret a machine learning algorithm in a probabilistic framework.\n",
    "\n",
    "We will see many algorithms that have these kinds of interpretations. Here are some simple extensions."
   ]
  },
  {
   "cell_type": "markdown",
   "metadata": {
    "slideshow": {
     "slide_type": "subslide"
    }
   },
   "source": [
    "We can use a Gaussian model and also parametrize the standard deviation. \n",
    "* This is called heteroscedastic regression, and allows us to obtain confidence intevals for our predictions."
   ]
  },
  {
   "cell_type": "markdown",
   "metadata": {
    "slideshow": {
     "slide_type": "subslide"
    }
   },
   "source": [
    "We can can also parametrize other distributions, not just the Gaussian. \n",
    "* Exponential or Gamma distributions for continuous variables \n",
    "* Bernoulli distribution for discrete variables\n",
    "\n",
    "This yields many new machine learning algorithms."
   ]
  },
  {
   "cell_type": "markdown",
   "metadata": {
    "slideshow": {
     "slide_type": "slide"
    }
   },
   "source": [
    "<left><img width=25% src=\"data:image/svg+xml;base64, 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\"></left>\n",
    "# Part 2: Bayesian Algorithms\n",
    "\n",
    "We can also use what we learned about Bayesian ML do interpret several algrothims that we've seen as special cases of the Bayesian framework."
   ]
  },
  {
   "cell_type": "markdown",
   "metadata": {
    "slideshow": {
     "slide_type": "slide"
    }
   },
   "source": [
    "# Review: The Bayesian Approach\n",
    "\n",
    "In Bayesian statistics, $\\theta$ is a *random* variable whose value happens to be unknown."
   ]
  },
  {
   "cell_type": "markdown",
   "metadata": {
    "slideshow": {
     "slide_type": "subslide"
    }
   },
   "source": [
    "We formulate two models:\n",
    "* A *likelihood* model $P(x, y | \\theta)$ that defines the probability of $x,y$ for any fixed value of $\\theta$.\n",
    "* A *prior* $P(\\theta)$ that specifies us existing belief about the distribution of the random variable $\\theta$."
   ]
  },
  {
   "cell_type": "markdown",
   "metadata": {
    "slideshow": {
     "slide_type": "fragment"
    }
   },
   "source": [
    "Together, these two models define the *joint* distribution\n",
    "$$ P(x, y, \\theta) = P(x, y \\mid \\theta) P(\\theta) $$\n",
    "in which both the $x, y$ and the parameters $\\theta$ are random variables."
   ]
  },
  {
   "cell_type": "markdown",
   "metadata": {
    "slideshow": {
     "slide_type": "slide"
    }
   },
   "source": [
    "# Review: A Posteriori Learning\n",
    "\n",
    "Recall that in maximum a posteriori (MAP) learning, we optimize the following objective.\n",
    "\\begin{align*}\n",
    "\\theta_\\text{MAP} = \\arg\\max_\\theta \\left( \\log \\prod_{i=1}^n P(x^{(i)}, y^{(i)} \\mid \\theta) + \\log P(\\theta) \\right),\n",
    "\\end{align*}\n",
    "\n",
    "Note that we used the same formula as we used for maximum likelihood, except that we have added the prior term $\\log P(\\theta)$."
   ]
  },
  {
   "cell_type": "markdown",
   "metadata": {
    "slideshow": {
     "slide_type": "slide"
    }
   },
   "source": [
    "# Review: Ridge Regression\n",
    "\n",
    "Recall that the ridge regression algorithm fits a linear model \n",
    "$$ f(x) = \\sum_{j=0}^d \\theta_j \\cdot x_j = \\theta^\\top x. $$"
   ]
  },
  {
   "cell_type": "markdown",
   "metadata": {
    "slideshow": {
     "slide_type": "subslide"
    }
   },
   "source": [
    "We minimize the L2-regualrized mean squared error (MSE)\n",
    "$$J(\\theta)= \\frac{1}{2n} \\sum_{i=1}^n(y^{(i)}-\\theta^\\top x^{(i)})^2 + \\frac{\\lambda}{2}\\sum_{j=1}^d \\theta_j^2$$\n",
    "on a dataset $\\{(x^{(1)}, y^{(1)}), (x^{(2)}, y^{(2)}), \\ldots, (x^{(n)}, y^{(n)})\\}$.\n",
    "The term $\\frac{1}{2}\\sum_{j=1}^d \\theta_j^2 = \\frac{1}{2}||\\theta||_2^2$ is called the regularizer."
   ]
  },
  {
   "cell_type": "markdown",
   "metadata": {
    "slideshow": {
     "slide_type": "slide"
    }
   },
   "source": [
    "# Probabilistic Ridge Regession\n",
    "\n",
    "We can interpet ridge regression as maximum apriori (MAP) estimation as follows."
   ]
  },
  {
   "cell_type": "markdown",
   "metadata": {
    "slideshow": {
     "slide_type": "slide"
    }
   },
   "source": [
    "1. First, we select our model family $\\mathcal{M}$ to be the set of Gaussian distributions of the form (let's assume $x \\in \\mathbb{R}$ for simplicity).\n",
    "$$ p(y | x; \\theta) = \\frac{1}{\\sqrt{2\\pi}\\sigma} \\exp\\left( -\\frac{(y - \\theta^\\top x)^2}{2 \\sigma^2} \\right).$$"
   ]
  },
  {
   "cell_type": "markdown",
   "metadata": {
    "slideshow": {
     "slide_type": "fragment"
    }
   },
   "source": [
    "2. We assume a Gaussian prior with mean zero and variance $\\tau$ on the parameters $\\theta$:\n",
    "$$ p(\\theta) = \\prod_{j=1}^d \\frac{1}{\\sqrt{2\\pi}\\tau} \\exp\\left( -\\frac{\\theta_j^2}{2\\tau^2} \\right).$$"
   ]
  },
  {
   "cell_type": "markdown",
   "metadata": {
    "slideshow": {
     "slide_type": "subslide"
    }
   },
   "source": [
    "3. We optimize the model using the MAP approach. The objective at a point $(x,y)$ equals\n",
    "\\begin{align*}\n",
    "\\log L(\\theta) & = \\log p(y | x; \\theta) + \\log p(\\theta) \n",
    "\\\\ & = \\log \\frac{1}{\\sqrt{2\\pi}\\sigma} \\exp\\left( -\\frac{(y - \\theta^\\top x)^2}{2 \\sigma^2} \\right) \\\\\n",
    "& \\;\\;\\;\\;\\;\\;\\;\\;\\;\\;\\;\\;\\;\\;\\;\\;\\; + \\log \\prod_{j=1}^d \\frac{1}{\\sqrt{2\\pi}\\tau} \\exp\\left( -\\frac{\\theta_j^2}{2\\tau^2} \\right) \\\\\n",
    "& = -\\frac{(y - \\theta^\\top x)^2}{2 \\sigma^2} - \\frac{1}{2\\tau^2}\\sum_{j=1}^d \\theta_j^2 + \\text{const.}\n",
    "\\end{align*}"
   ]
  },
  {
   "cell_type": "markdown",
   "metadata": {
    "slideshow": {
     "slide_type": "fragment"
    }
   },
   "source": [
    "Thus, we see that ridge regression actually amounts to performing MAP estimation with a Gaussian prior. The strength of the regularizer $\\lambda$ equals $1/\\tau^2$."
   ]
  },
  {
   "cell_type": "markdown",
   "metadata": {
    "slideshow": {
     "slide_type": "slide"
    }
   },
   "source": [
    "# Algorithm: Probabilistic Ridge Least Squares\n",
    "\n",
    "* __Type__: Supervised learning (regression)\n",
    "* __Model family__: Linear models\n",
    "* __Objective function__: L2-regularized mean squared error\n",
    "* __Optimizer__: Normal equations\n",
    "* __Probabilistic interpretation__: Conditional Gaussian likelihood and Gaussian prior fit using MAP."
   ]
  },
  {
   "cell_type": "markdown",
   "metadata": {
    "slideshow": {
     "slide_type": "slide"
    }
   },
   "source": [
    "# Bayesian View on ML Algorithms\n",
    "\n",
    "Very often, we can interpret classical ML algorithms as applications of the probabilistic or Bayesian approaches (although we can derive them in other ways as well!)"
   ]
  },
  {
   "cell_type": "markdown",
   "metadata": {
    "slideshow": {
     "slide_type": "fragment"
    }
   },
   "source": [
    "* Regularization can often be seen as applying a prior on the weights."
   ]
  },
  {
   "cell_type": "markdown",
   "metadata": {
    "slideshow": {
     "slide_type": "fragment"
    }
   },
   "source": [
    "* L1 regularization can be seen as applying a *Laplace* prior."
   ]
  },
  {
   "cell_type": "markdown",
   "metadata": {
    "slideshow": {
     "slide_type": "fragment"
    }
   },
   "source": [
    "* Many other algorithms will have similar interpretations."
   ]
  },
  {
   "cell_type": "markdown",
   "metadata": {
    "slideshow": {
     "slide_type": "skip"
    }
   },
   "source": [
    "<left><img width=25% src=\"data:image/svg+xml;base64, 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\"></left>\n",
    "# Part 3: Bayesian Ridge Regression\n",
    "\n",
    "Let's now look at an example of a fully Bayesian machinne learning algorithm.\n",
    "\n",
    "This section is still under construction and not part of the main lecture."
   ]
  },
  {
   "cell_type": "markdown",
   "metadata": {
    "slideshow": {
     "slide_type": "skip"
    }
   },
   "source": [
    "# Review: The Bayesian Approach\n",
    "\n",
    "In Bayesian statistics, $\\theta$ is a *random* variable whose value happens to be unknown."
   ]
  },
  {
   "cell_type": "markdown",
   "metadata": {
    "slideshow": {
     "slide_type": "skip"
    }
   },
   "source": [
    "We formulate two models:\n",
    "* A *likelihood* model $P(x, y | \\theta)$ that defines the probability of $x,y$ for any fixed value of $\\theta$.\n",
    "* A *prior* $P(\\theta)$ that specifies us existing belief about the distribution of the random variable $\\theta$."
   ]
  },
  {
   "cell_type": "markdown",
   "metadata": {
    "slideshow": {
     "slide_type": "skip"
    }
   },
   "source": [
    "Together, these two models define the *joint* distribution\n",
    "$$ P(x, y, \\theta) = P(x, y \\mid \\theta) P(\\theta) $$\n",
    "in which both the $x, y$ and the parameters $\\theta$ are random variables."
   ]
  },
  {
   "cell_type": "markdown",
   "metadata": {
    "slideshow": {
     "slide_type": "skip"
    }
   },
   "source": [
    "# Review: Ridge Regression\n",
    "\n",
    "Recall that the ridge regression algorithm fits a linear model \n",
    "$$ f(x) = \\sum_{j=0}^d \\theta_j \\cdot x_j = \\theta^\\top x. $$"
   ]
  },
  {
   "cell_type": "markdown",
   "metadata": {
    "slideshow": {
     "slide_type": "skip"
    }
   },
   "source": [
    "We minimize the L2-regualrized mean squared error (MSE)\n",
    "$$J(\\theta)= \\frac{1}{2n} \\sum_{i=1}^n(y_i-x_i^\\top\\theta)^2 + \\frac{1}{2}\\sum_{j=1}^d \\theta_j^2$$\n",
    "on a dataset $\\{(x^{(1)}, y^{(1)}), (x^{(2)}, y^{(2)}), \\ldots, (x^{(n)}, y^{(n)})\\}$.\n",
    "The term $\\frac{1}{2}\\sum_{j=1}^d \\theta_j^2 = \\frac{1}{2}||\\theta||_2^2$ is called the regularizer."
   ]
  },
  {
   "cell_type": "markdown",
   "metadata": {
    "slideshow": {
     "slide_type": "skip"
    }
   },
   "source": [
    "# Probabilistic Ridge Regession\n",
    "\n",
    "We can interpet ridge regression as maximum apriori (MAP) estimation as follows."
   ]
  },
  {
   "cell_type": "markdown",
   "metadata": {
    "slideshow": {
     "slide_type": "skip"
    }
   },
   "source": [
    "# Bayesian Predictions\n",
    "\n",
    "Suppose we now want to predict the value of $y$ from $x$. Unlike in the frequentist setting, we no longer have a single estimate $\\theta$ of the model params, but instead we have a distribution.\n",
    "\n",
    "The Bayesian approach to predicting $y$ given an input $x$ and a training dataset $\\mathcal{D}$ consists of taking the prediction of all the possible models\n",
    "$$ P(y | x, \\mathcal{D}) = \\int_\\theta P(y \\mid x, \\theta) P(\\theta \\mid \\mathcal{D}) d\\theta. $$\n",
    "This is called the *posterior predictive* distribution. Note how each $P(y \\mid x, \\theta)$ is weighted by the probability of $\\theta$ given $\\mathcal{D}$."
   ]
  }
 ],
 "metadata": {
  "accelerator": "GPU",
  "celltoolbar": "Slideshow",
  "colab": {
   "collapsed_sections": [],
   "name": "neural-ode.ipynb",
   "provenance": []
  },
  "kernelspec": {
   "display_name": "Python 3 (ipykernel)",
   "language": "python",
   "name": "python3"
  },
  "language_info": {
   "codemirror_mode": {
    "name": "ipython",
    "version": 3
   },
   "file_extension": ".py",
   "mimetype": "text/x-python",
   "name": "python",
   "nbconvert_exporter": "python",
   "pygments_lexer": "ipython3",
   "version": "3.8.12"
  },
  "rise": {
   "controlsTutorial": false,
   "height": 900,
   "help": false,
   "margin": 0,
   "maxScale": 2,
   "minScale": 0.2,
   "progress": true,
   "scroll": true,
   "theme": "simple",
   "width": 1200
  }
 },
 "nbformat": 4,
 "nbformat_minor": 1
}
