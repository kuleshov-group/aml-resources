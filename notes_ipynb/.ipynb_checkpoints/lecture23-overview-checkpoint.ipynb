{
 "cells": [
  {
   "cell_type": "markdown",
   "metadata": {
    "colab_type": "text",
    "id": "i_f5u2x9nn6I",
    "slideshow": {
     "slide_type": "slide"
    }
   },
   "source": [
    "<left><img width=25% src=\"data:image/svg+xml;base64, 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\"></left>\n",
    "# Lecture 23: Course Overview\n",
    "\n",
    "### Applied Machine Learning\n",
    "\n",
    "__Volodymyr Kuleshov__<br>Cornell Tech"
   ]
  },
  {
   "cell_type": "markdown",
   "metadata": {
    "slideshow": {
     "slide_type": "slide"
    }
   },
   "source": [
    "# Congratulations on Finishing Applied Machine Learning!\n",
    "\n",
    "You have made it! This is our last machine learning lecture, in which we will do an overview of the diffrent algorithms seen in the course."
   ]
  },
  {
   "cell_type": "markdown",
   "metadata": {
    "slideshow": {
     "slide_type": "slide"
    }
   },
   "source": [
    "# A Map of Applied Machine Learning\n",
    "\n",
    "We will go through the following map of algorithms from the course.\n",
    "<center><img width=100% src=\"https://aml.hongjunwu.com/slides/img/algorithms1.png\"></center>"
   ]
  },
  {
   "cell_type": "markdown",
   "metadata": {
    "slideshow": {
     "slide_type": "slide"
    }
   },
   "source": [
    "# Supervised Machine Learning\n",
    "\n",
    "At a high level, a supervised machine learning problem has the following structure:\n",
    "\n",
    "$$ \\underbrace{\\text{Dataset}}_\\text{Features, Attributes} + \\underbrace{\\text{Learning Algorithm}}_\\text{Model Class + Objective + Optimizer} \\to \\text{Predictive Model} $$\n",
    "\n",
    "The predictive model is chosen to model the relationship between inputs and targets. For instance, it can predict future targets."
   ]
  },
  {
   "cell_type": "markdown",
   "metadata": {
    "slideshow": {
     "slide_type": "slide"
    }
   },
   "source": [
    "# Linear Regression\n",
    "\n",
    "In linear regression, we fit a model\n",
    "$$ f_\\theta(x) := \\theta^\\top \\phi(x) $$\n",
    "that is linear in $\\theta$. \n",
    "\n",
    "The features $\\phi(x) : \\mathbb{R} \\to \\mathbb{R}^p$ are non-linear may non-linear in $x$ (e.g., polynomial features), allowing us to fit complex functions."
   ]
  },
  {
   "cell_type": "markdown",
   "metadata": {
    "slideshow": {
     "slide_type": "subslide"
    }
   },
   "source": [
    "<center><img width=100% src=\"https://aml.hongjunwu.com/slides/img/algorithms3.png\"></center>"
   ]
  },
  {
   "cell_type": "markdown",
   "metadata": {
    "slideshow": {
     "slide_type": "slide"
    }
   },
   "source": [
    "# Overfitting\n",
    "\n",
    "Overfitting is one of the most common failure modes of machine learning.\n",
    "* A very expressive model (a high degree polynomial) fits the training dataset perfectly.\n",
    "* The model also makes wildly incorrect prediction outside this dataset, and doesn't generalize."
   ]
  },
  {
   "cell_type": "markdown",
   "metadata": {
    "slideshow": {
     "slide_type": "slide"
    }
   },
   "source": [
    "# Regularization\n",
    "\n",
    "The idea of regularization is to penalize complex models that may overfit the data."
   ]
  },
  {
   "cell_type": "markdown",
   "metadata": {
    "slideshow": {
     "slide_type": "fragment"
    }
   },
   "source": [
    "Regularized least squares optimizes the following objective (__Ridge__).\n",
    "$$ J(\\theta) = \\frac{1}{2n} \\sum_{i=1}^n \\left( y^{(i)} - \\theta^\\top \\phi(x^{(i)}) \\right)^2 + \\frac{\\lambda}{2} \\cdot ||\\theta||_2^2. $$\n",
    "If we use the L1 norm, we have the __LASSO__."
   ]
  },
  {
   "cell_type": "markdown",
   "metadata": {
    "slideshow": {
     "slide_type": "subslide"
    }
   },
   "source": [
    "<center><img width=100% src=\"https://aml.hongjunwu.com/slides/img/algorithms4.png\"></center>"
   ]
  },
  {
   "cell_type": "markdown",
   "metadata": {
    "slideshow": {
     "slide_type": "slide"
    }
   },
   "source": [
    "# Regression vs. Classification\n",
    "\n",
    "Consider a training dataset $\\mathcal{D} = \\{(x^{(1)}, y^{(1)}), (x^{(2)}, y^{(2)}), \\ldots, (x^{(n)}, y^{(n)})\\}$.\n",
    "\n",
    "We distinguish between two types of supervised learning problems depnding on the targets $y^{(i)}$. \n",
    "\n",
    "1. __Regression__: The target variable $y \\in \\mathcal{Y}$ is continuous:  $\\mathcal{Y} \\subseteq \\mathbb{R}$.\n",
    "2. __Classification__: The target variable $y$ is discrete and takes on one of $K$ possible values:  $\\mathcal{Y} = \\{y_1, y_2, \\ldots y_K\\}$. Each discrete value corresponds to a *class* that we want to predict."
   ]
  },
  {
   "cell_type": "markdown",
   "metadata": {
    "slideshow": {
     "slide_type": "subslide"
    }
   },
   "source": [
    "<center><img width=100% src=\"https://aml.hongjunwu.com/slides/img/algorithms5.png\"></center>"
   ]
  },
  {
   "cell_type": "markdown",
   "metadata": {
    "slideshow": {
     "slide_type": "slide"
    }
   },
   "source": [
    "# Parametric vs. Non-Parametric Models\n",
    "\n",
    "Nearest neighbors is an example of a *non-parametric* model.\n",
    "* A parametric model $f_\\theta(x) : \\mathcal{X} \\times \\Theta \\to \\mathcal{Y}$ is defined by a finite set of parameters $\\theta \\in \\Theta$ whose dimensionality is constant with respect to the dataset"
   ]
  },
  {
   "cell_type": "markdown",
   "metadata": {
    "slideshow": {
     "slide_type": "fragment"
    }
   },
   "source": [
    "* In a non-parametric model, the function $f$ uses the entire training dataset to make predictions, and the complexity of the model increases with dataset size."
   ]
  },
  {
   "cell_type": "markdown",
   "metadata": {
    "slideshow": {
     "slide_type": "subslide"
    }
   },
   "source": [
    "* Non-parametric models have the advantage of not loosing any information at training time. \n",
    "* However, they are also computationally less tractable and may easily overfit the training set."
   ]
  },
  {
   "cell_type": "markdown",
   "metadata": {
    "slideshow": {
     "slide_type": "slide"
    }
   },
   "source": [
    "# Probabilistic vs. Non-Probabilistic Models\n",
    "\n",
    "A probabilistic model is a probability distribution\n",
    "$$P(x,y) : \\mathcal{X} \\times \\mathcal{Y} \\to [0,1].$$\n",
    "This model can approximate the data distribution $P_\\text{data}(x,y)$.\n",
    "\n",
    "If we know $P(x,y)$, we can use the conditional $P(y|x)$ for prediction."
   ]
  },
  {
   "cell_type": "markdown",
   "metadata": {
    "slideshow": {
     "slide_type": "slide"
    }
   },
   "source": [
    "# Maximum Likelihood Learning\n",
    "\n",
    "Maximum likelihood is an objective that can be used to fit any probabilistic model:\n",
    "$$ \\theta_\\text{MLE} = \\arg\\max_\\theta \\mathbb{E}_{x, y \\sim \\mathbb{P}_\\text{data}} \\log P(x, y; \\theta). $$\n",
    "It minimizes the KL divergence between the model and data distributions:\n",
    "$$\\theta_\\text{MLE} = \\arg\\min_\\theta \\text{KL}(P_\\text{data} \\mid\\mid P_\\theta).$$"
   ]
  },
  {
   "cell_type": "markdown",
   "metadata": {
    "slideshow": {
     "slide_type": "slide"
    }
   },
   "source": [
    "# Discriminative vs. Generative Models\n",
    "\n",
    "There are two types of probabilistic models: *generative* and *discriminative*.\n",
    "\\begin{align*}\n",
    "\\underbrace{P_\\theta(x,y) : \\mathcal{X} \\times \\mathcal{Y} \\to [0,1]}_\\text{generative model} & \\;\\; & \\underbrace{P_\\theta(y|x) : \\mathcal{X} \\times \\mathcal{Y} \\to [0,1]}_\\text{discriminative model}\n",
    "\\end{align*}\n",
    "\n",
    "We can obtain predictions from generative models via $\\max_y P_\\theta(x,y)$."
   ]
  },
  {
   "cell_type": "markdown",
   "metadata": {
    "slideshow": {
     "slide_type": "subslide"
    }
   },
   "source": [
    "<center><img width=100% src=\"https://aml.hongjunwu.com/slides/img/algorithms6.png\"></center>"
   ]
  },
  {
   "cell_type": "markdown",
   "metadata": {
    "slideshow": {
     "slide_type": "slide"
    }
   },
   "source": [
    "# The Max-Margin Principle\n",
    "\n",
    "Intuitively, we want to select linear decision boundaries with high *margin*. \n",
    "\n",
    "This means that we are as confident as possible for every point and we are as far as possible from the decision boundary."
   ]
  },
  {
   "cell_type": "code",
   "execution_count": 2,
   "metadata": {
    "slideshow": {
     "slide_type": "subslide"
    }
   },
   "outputs": [
    {
     "data": {
      "text/html": [
       "<div>\n",
       "<style scoped>\n",
       "    .dataframe tbody tr th:only-of-type {\n",
       "        vertical-align: middle;\n",
       "    }\n",
       "\n",
       "    .dataframe tbody tr th {\n",
       "        vertical-align: top;\n",
       "    }\n",
       "\n",
       "    .dataframe thead th {\n",
       "        text-align: right;\n",
       "    }\n",
       "</style>\n",
       "<table border=\"1\" class=\"dataframe\">\n",
       "  <thead>\n",
       "    <tr style=\"text-align: right;\">\n",
       "      <th></th>\n",
       "      <th>sepal length (cm)</th>\n",
       "      <th>sepal width (cm)</th>\n",
       "      <th>petal length (cm)</th>\n",
       "      <th>petal width (cm)</th>\n",
       "      <th>target</th>\n",
       "    </tr>\n",
       "  </thead>\n",
       "  <tbody>\n",
       "    <tr>\n",
       "      <th>0</th>\n",
       "      <td>5.1</td>\n",
       "      <td>3.5</td>\n",
       "      <td>1.4</td>\n",
       "      <td>0.2</td>\n",
       "      <td>-1</td>\n",
       "    </tr>\n",
       "    <tr>\n",
       "      <th>4</th>\n",
       "      <td>5.0</td>\n",
       "      <td>3.6</td>\n",
       "      <td>1.4</td>\n",
       "      <td>0.2</td>\n",
       "      <td>-1</td>\n",
       "    </tr>\n",
       "    <tr>\n",
       "      <th>8</th>\n",
       "      <td>4.4</td>\n",
       "      <td>2.9</td>\n",
       "      <td>1.4</td>\n",
       "      <td>0.2</td>\n",
       "      <td>-1</td>\n",
       "    </tr>\n",
       "    <tr>\n",
       "      <th>12</th>\n",
       "      <td>4.8</td>\n",
       "      <td>3.0</td>\n",
       "      <td>1.4</td>\n",
       "      <td>0.1</td>\n",
       "      <td>-1</td>\n",
       "    </tr>\n",
       "    <tr>\n",
       "      <th>16</th>\n",
       "      <td>5.4</td>\n",
       "      <td>3.9</td>\n",
       "      <td>1.3</td>\n",
       "      <td>0.4</td>\n",
       "      <td>-1</td>\n",
       "    </tr>\n",
       "  </tbody>\n",
       "</table>\n",
       "</div>"
      ],
      "text/plain": [
       "    sepal length (cm)  sepal width (cm)  petal length (cm)  petal width (cm)  \\\n",
       "0                 5.1               3.5                1.4               0.2   \n",
       "4                 5.0               3.6                1.4               0.2   \n",
       "8                 4.4               2.9                1.4               0.2   \n",
       "12                4.8               3.0                1.4               0.1   \n",
       "16                5.4               3.9                1.3               0.4   \n",
       "\n",
       "    target  \n",
       "0       -1  \n",
       "4       -1  \n",
       "8       -1  \n",
       "12      -1  \n",
       "16      -1  "
      ]
     },
     "execution_count": 2,
     "metadata": {},
     "output_type": "execute_result"
    }
   ],
   "source": [
    "import numpy as np\n",
    "import pandas as pd\n",
    "from sklearn import datasets\n",
    "\n",
    "# Load the Iris dataset\n",
    "iris = datasets.load_iris(as_frame=True)\n",
    "iris_X, iris_y = iris.data, iris.target\n",
    "\n",
    "# subsample to a third of the data points\n",
    "iris_X = iris_X.loc[::4]\n",
    "iris_y = iris_y.loc[::4]\n",
    "\n",
    "# create a binary classification dataset with labels +/- 1\n",
    "iris_y2 = iris_y.copy()\n",
    "iris_y2[iris_y2==2] = 1\n",
    "iris_y2[iris_y2==0] = -1\n",
    "\n",
    "# print part of the dataset\n",
    "pd.concat([iris_X, iris_y2], axis=1).head()"
   ]
  },
  {
   "cell_type": "code",
   "execution_count": 3,
   "metadata": {
    "slideshow": {
     "slide_type": "subslide"
    }
   },
   "outputs": [
    {
     "data": {
      "text/plain": [
       "<matplotlib.legend.Legend at 0x12b41fb00>"
      ]
     },
     "execution_count": 3,
     "metadata": {},
     "output_type": "execute_result"
    },
    {
     "data": {
      "image/png": "[encoded data removed]",
      "text/plain": [
       "<Figure size 864x288 with 1 Axes>"
      ]
     },
     "metadata": {
      "needs_background": "light"
     },
     "output_type": "display_data"
    }
   ],
   "source": [
    "# https://scikit-learn.org/stable/auto_examples/neighbors/plot_classification.html\n",
    "%matplotlib inline\n",
    "import matplotlib.pyplot as plt\n",
    "plt.rcParams['figure.figsize'] = [12, 4]\n",
    "import warnings\n",
    "warnings.filterwarnings(\"ignore\")\n",
    "\n",
    "# create 2d version of dataset and subsample it\n",
    "X = iris_X.to_numpy()[:,:2]\n",
    "x_min, x_max = X[:, 0].min() - .5, X[:, 0].max() + .5\n",
    "y_min, y_max = X[:, 1].min() - .5, X[:, 1].max() + .5\n",
    "xx, yy = np.meshgrid(np.arange(x_min, x_max, .02), np.arange(y_min, y_max, .02))\n",
    "\n",
    "# Plot also the training points\n",
    "p1 = plt.scatter(X[:, 0], X[:, 1], c=iris_y2, s=60, cmap=plt.cm.Paired)\n",
    "plt.xlabel('Petal Length')\n",
    "plt.ylabel('Petal Width')\n",
    "plt.legend(handles=p1.legend_elements()[0], labels=['Setosa', 'Not Setosa'], loc='lower right')"
   ]
  },
  {
   "cell_type": "code",
   "execution_count": 4,
   "metadata": {
    "slideshow": {
     "slide_type": "subslide"
    }
   },
   "outputs": [
    {
     "data": {
      "image/png": "[encoded data removed]",
      "text/plain": [
       "<Figure size 864x216 with 3 Axes>"
      ]
     },
     "metadata": {
      "needs_background": "light"
     },
     "output_type": "display_data"
    }
   ],
   "source": [
    "from sklearn.linear_model import Perceptron, RidgeClassifier\n",
    "from sklearn.svm import SVC\n",
    "models = [SVC(kernel='linear', C=10000), Perceptron(), RidgeClassifier()]\n",
    "\n",
    "def fit_and_create_boundary(model):\n",
    "    model.fit(X, iris_y2)\n",
    "    Z = model.predict(np.c_[xx.ravel(), yy.ravel()])\n",
    "    Z = Z.reshape(xx.shape)\n",
    "    return Z\n",
    "\n",
    "plt.figure(figsize=(12,3))\n",
    "for i, model in enumerate(models):\n",
    "    plt.subplot('13%d' % (i+1))\n",
    "    Z = fit_and_create_boundary(model)\n",
    "    plt.pcolormesh(xx, yy, Z, cmap=plt.cm.Paired) \n",
    "\n",
    "    # Plot also the training points\n",
    "    plt.scatter(X[:, 0], X[:, 1], c=iris_y2, edgecolors='k', cmap=plt.cm.Paired)\n",
    "    if i == 0:\n",
    "        plt.title('Good Margin')\n",
    "    else:\n",
    "        plt.title('Bad Margin')\n",
    "    plt.xlabel('Sepal length')\n",
    "    plt.ylabel('Sepal width')\n",
    "\n",
    "plt.show()"
   ]
  },
  {
   "cell_type": "markdown",
   "metadata": {
    "slideshow": {
     "slide_type": "subslide"
    }
   },
   "source": [
    "<center><img width=100% src=\"https://aml.hongjunwu.com/slides/img/algorithms7.png\"></center>"
   ]
  },
  {
   "cell_type": "markdown",
   "metadata": {
    "slideshow": {
     "slide_type": "slide"
    }
   },
   "source": [
    "# The Kernel Trick\n",
    "\n",
    "Many algorithms in machine learning only involve dot products $\\phi(x)^\\top \\phi(z)$ but not the features $\\phi$ themselves."
   ]
  },
  {
   "cell_type": "markdown",
   "metadata": {
    "slideshow": {
     "slide_type": "fragment"
    }
   },
   "source": [
    "We can often compute $\\phi(x)^\\top \\phi(z)$ very efficiently for complex $\\phi$ using a kernel function $K(x,z) = \\phi(x)^\\top \\phi(z)$. This is the __kernel trick__."
   ]
  },
  {
   "cell_type": "markdown",
   "metadata": {
    "slideshow": {
     "slide_type": "subslide"
    }
   },
   "source": [
    "<center><img width=100% src=\"https://aml.hongjunwu.com/slides/img/algorithms8.png\"></center>"
   ]
  },
  {
   "cell_type": "markdown",
   "metadata": {
    "slideshow": {
     "slide_type": "slide"
    }
   },
   "source": [
    "# Tree-Based Models\n",
    "\n",
    "Decision trees output target based on a tree of human-interpretable decision rules.\n",
    "* __Random forests__ combine large trees using *bagging* to reduce overfitting.\n",
    "* __Boosted trees__ combine small trees to reduce underfitting."
   ]
  },
  {
   "cell_type": "markdown",
   "metadata": {
    "slideshow": {
     "slide_type": "subslide"
    }
   },
   "source": [
    "<center><img width=100% src=\"https://aml.hongjunwu.com/slides/img/algorithms9.png\"></center>"
   ]
  },
  {
   "cell_type": "markdown",
   "metadata": {
    "slideshow": {
     "slide_type": "slide"
    }
   },
   "source": [
    "# Neural Networks\n",
    "\n",
    "Neural network models are inspired by the brain.\n",
    "* A Perceptron is an artificial model of a neuron.\n",
    "* MLP stack multiple layers of artifical neurons.\n",
    "* ConvNets tie the weights of neighboring neurons into receptive fields that implement the convolution operation."
   ]
  },
  {
   "cell_type": "markdown",
   "metadata": {
    "slideshow": {
     "slide_type": "subslide"
    }
   },
   "source": [
    "<center><img width=100% src=\"https://aml.hongjunwu.com/slides/img/algorithms10.png\"></center>"
   ]
  },
  {
   "cell_type": "markdown",
   "metadata": {
    "slideshow": {
     "slide_type": "slide"
    }
   },
   "source": [
    "# Unsupervised Learning\n",
    "\n",
    "We have a dataset *without* labels. Our goal is to learn something interesting about the structure of the data:\n",
    "* __Clusters__ hidden in the dataset.\n",
    "* A __low-dimensional representation__ of the data.\n",
    "* Recover the __probability density__ that generated the data."
   ]
  },
  {
   "cell_type": "markdown",
   "metadata": {
    "slideshow": {
     "slide_type": "subslide"
    }
   },
   "source": [
    "<center><img width=100% src=\"https://aml.hongjunwu.com/slides/img/algorithms11.png\"></center>"
   ]
  },
  {
   "cell_type": "markdown",
   "metadata": {
    "slideshow": {
     "slide_type": "subslide"
    }
   },
   "source": [
    "<center><img width=100% src=\"https://aml.hongjunwu.com/slides/img/algorithms12.png\"></center>"
   ]
  },
  {
   "cell_type": "markdown",
   "metadata": {
    "slideshow": {
     "slide_type": "subslide"
    }
   },
   "source": [
    "<center><img width=100% src=\"https://aml.hongjunwu.com/slides/img/algorithms13.png\"></center>"
   ]
  },
  {
   "cell_type": "markdown",
   "metadata": {
    "slideshow": {
     "slide_type": "slide"
    }
   },
   "source": [
    "# How To Decide Which Algorithm to Use\n",
    "\n",
    "One factor is how much data you have. In the __small data__ (<10,000) regime, consider:\n",
    "* Linear models with hand-crafted features (LASSO, LR, NB, SVMs)\n",
    "* Kernel methods often work best (e.g., SVM + RBF kernel)\n",
    "* Non-parametric methods (kernels, nearest neighbors) are also powerful"
   ]
  },
  {
   "cell_type": "markdown",
   "metadata": {
    "slideshow": {
     "slide_type": "subslide"
    }
   },
   "source": [
    "In the __big data__ regime,\n",
    "* If using \"high-level\" features, gradient boosted trees are state-of-the-art\n",
    "* When using \"low-level\" representations (images, sound signals), neural networks work best\n",
    "* Linear models with good features are also good and reliable"
   ]
  },
  {
   "cell_type": "markdown",
   "metadata": {
    "slideshow": {
     "slide_type": "subslide"
    }
   },
   "source": [
    "Some additional advice:\n",
    "* If interpretability matters, use decision trees or LASSO.\n",
    "* When uncertainty estimates are important use probabilistic methods.\n",
    "* If you know the data generating process, use generative models."
   ]
  },
  {
   "cell_type": "markdown",
   "metadata": {
    "slideshow": {
     "slide_type": "slide"
    }
   },
   "source": [
    "# What's Next? Ideas for Courses\n",
    "\n",
    "Consider the following courses to keep learning about ML:\n",
    "* Graduate courses in the Spring semester at Cornell (generative models, NLP, etc.)\n",
    "* Masters courses: Deep Learning Clinic, ML Engineering, Data Science, etc.\n",
    "* Online courses, e.g. Full Stack Deep Learning"
   ]
  },
  {
   "cell_type": "markdown",
   "metadata": {
    "slideshow": {
     "slide_type": "slide"
    }
   },
   "source": [
    "# What's Next? Ideas for Research\n",
    "\n",
    "In order to get involved in research, I recommend:\n",
    "* Contacting research groups at Cornell for openings\n",
    "* Watching online ML tutorials, e.g. NeurIPS\n",
    "* Reading and implementing ML papers on your own"
   ]
  },
  {
   "cell_type": "markdown",
   "metadata": {
    "slideshow": {
     "slide_type": "slide"
    }
   },
   "source": [
    "# What's Next? Ideas for Industry Projects\n",
    "\n",
    "Finally, a few ideas for how to get more practice applying ML in the real world:\n",
    "* Participate in Kaggle competitions and review solutions\n",
    "* Build an open-source project that you like and host it on Github"
   ]
  },
  {
   "cell_type": "markdown",
   "metadata": {
    "slideshow": {
     "slide_type": "slide"
    }
   },
   "source": [
    "# Thank You For Taking Applied Machine Learning!\n",
    "\n",
    "<left><img width=25% src=\"data:image/svg+xml;base64, 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\"></left>"
   ]
  },
  {
   "cell_type": "code",
   "execution_count": null,
   "metadata": {},
   "outputs": [],
   "source": []
  }
 ],
 "metadata": {
  "accelerator": "GPU",
  "celltoolbar": "Slideshow",
  "colab": {
   "collapsed_sections": [],
   "name": "neural-ode.ipynb",
   "provenance": []
  },
  "kernelspec": {
   "display_name": "Python 3 (ipykernel)",
   "language": "python",
   "name": "python3"
  },
  "language_info": {
   "codemirror_mode": {
    "name": "ipython",
    "version": 3
   },
   "file_extension": ".py",
   "mimetype": "text/x-python",
   "name": "python",
   "nbconvert_exporter": "python",
   "pygments_lexer": "ipython3",
   "version": "3.8.12"
  },
  "rise": {
   "controlsTutorial": false,
   "height": 900,
   "help": false,
   "margin": 0,
   "maxScale": 2,
   "minScale": 0.2,
   "progress": true,
   "scroll": true,
   "theme": "simple",
   "width": 1200
  }
 },
 "nbformat": 4,
 "nbformat_minor": 1
}
