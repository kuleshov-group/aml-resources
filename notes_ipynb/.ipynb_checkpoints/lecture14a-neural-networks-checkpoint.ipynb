{
 "cells": [
  {
   "cell_type": "markdown",
   "metadata": {
    "colab_type": "text",
    "id": "i_f5u2x9nn6I",
    "slideshow": {
     "slide_type": "slide"
    }
   },
   "source": [
    "<left><img width=25% src=\"data:image/svg+xml;base64, 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\"></left>\n",
    "\n",
    "# Lecture 13: Neural Networks\n",
    "\n",
    "### Applied Machine Learning\n",
    "\n",
    "__Volodymyr Kuleshov, Jin Sun__<br>Cornell Tech"
   ]
  },
  {
   "cell_type": "markdown",
   "metadata": {
    "slideshow": {
     "slide_type": "slide"
    }
   },
   "source": [
    "# Part 1: An Artifical Neuron\n",
    "\n",
    "In this lecture, we will learn about a new class of machine learning algorithms inspired by the brain.\n",
    "\n",
    "We will start by defining a few building blocks for these algorithms, and draw connections to neuroscience."
   ]
  },
  {
   "cell_type": "markdown",
   "metadata": {},
   "source": [
    "# Review: Components of A Supervised Machine Learning Problem\n",
    "\n",
    "At a high level, a supervised machine learning problem has the following structure:\n",
    "\n",
    "$$ \\underbrace{\\text{Training Dataset}}_\\text{Attributes + Features} + \\underbrace{\\text{Learning Algorithm}}_\\text{Model Class + Objective + Optimizer } \\to \\text{Predictive Model} $$\n",
    "\n",
    "Where does the dataset come from?"
   ]
  },
  {
   "cell_type": "markdown",
   "metadata": {
    "slideshow": {
     "slide_type": "slide"
    }
   },
   "source": [
    "# Review: Binary Classification\n",
    "\n",
    "In supervised learning, we fit a model of the form\n",
    "$$ f : \\mathcal{X} \\to \\mathcal{Y} $$\n",
    "that maps inputs $x \\in \\mathcal{X}$ to targets $y \\in \\mathcal{Y}$."
   ]
  },
  {
   "cell_type": "markdown",
   "metadata": {
    "slideshow": {
     "slide_type": "fragment"
    }
   },
   "source": [
    "In classification, the space of targets $\\mathcal{Y}$ is *discrete*. Classification is binary if $\\mathcal{Y} = \\{0,1\\}$"
   ]
  },
  {
   "cell_type": "markdown",
   "metadata": {
    "slideshow": {
     "slide_type": "fragment"
    }
   },
   "source": [
    "Each value of $y$ value is a *class* and we are interested in finding a hyperplane that separates the different classes."
   ]
  },
  {
   "cell_type": "markdown",
   "metadata": {
    "slideshow": {
     "slide_type": "slide"
    }
   },
   "source": [
    "# Review: Logistic Regression\n",
    "\n",
    "Logistic regression fits a model of the form\n",
    "$$ f(x) = \\sigma(\\theta^\\top x) = \\frac{1}{1 + \\exp(-\\theta^\\top x)}, $$\n",
    "where\n",
    "$$ \\sigma(z) = \\frac{1}{1 + \\exp(-z)} $$\n",
    "is known as the *sigmoid* or *logistic* function."
   ]
  },
  {
   "cell_type": "markdown",
   "metadata": {
    "slideshow": {
     "slide_type": "subslide"
    }
   },
   "source": [
    "Here is how the logistic function looks like."
   ]
  },
  {
   "cell_type": "code",
   "execution_count": 1,
   "metadata": {
    "slideshow": {
     "slide_type": "-"
    }
   },
   "outputs": [
    {
     "data": {
      "text/plain": [
       "[<matplotlib.lines.Line2D at 0x1172c9160>]"
      ]
     },
     "execution_count": 1,
     "metadata": {},
     "output_type": "execute_result"
    },
    {
     "data": {
      "image/png": "[encoded data removed]",
      "text/plain": [
       "<Figure size 432x288 with 1 Axes>"
      ]
     },
     "metadata": {
      "needs_background": "light"
     },
     "output_type": "display_data"
    }
   ],
   "source": [
    "import numpy as np\n",
    "from matplotlib import pyplot as plt\n",
    "\n",
    "z = np.linspace(-5, 5)\n",
    "sigma = 1/(1+np.exp(-z))\n",
    "\n",
    "plt.plot(z, sigma)"
   ]
  },
  {
   "cell_type": "markdown",
   "metadata": {},
   "source": [
    "# A Biological Neuron\n",
    "\n",
    "In order to define an artifical neuron, let's look first a biological one.\n",
    "\n",
    "TODO: PUT NEURON IMAGE FROM HERE: https://cs231n.github.io/neural-networks-1/\n",
    "\n",
    "* Each neuron receives input signals from its dendrites\n",
    "* It produces output signals along its axon, which connects to the dendrites of other neurons."
   ]
  },
  {
   "cell_type": "markdown",
   "metadata": {},
   "source": [
    "# An Artificial Neuron: Example\n",
    "\n",
    "We can imitate this machinery using an idealized artifical neuron.\n",
    "* The neuron receives signals $x_j$ at dendrites, which are modulated multiplicatively: $w_j \\cdot x_j$.\n",
    "* The body of the neuron sums the modulated inputs: $\\sum_{j=1}^d w_j \\cdot x_j$.\n",
    "* These go into the activation function that produces an ouput.\n",
    "\n",
    "TODO: PUT ARTIFICIAL NEURON IMAGE FROM HERE: https://cs231n.github.io/neural-networks-1/"
   ]
  },
  {
   "cell_type": "markdown",
   "metadata": {},
   "source": [
    "# An Artificial Neuron: Notation\n",
    "\n",
    "More formally, we say that a neuron is a model $f : \\mathbb{R}^d \\to [0,1]$, with the following components:\n",
    "* Inputs $x_1,x_2,...,x_d$, denoted by a vector $x$.\n",
    "* Weight vector $w \\in \\mathbb{R}^d$ that modulates input $x$ as $w^\\top x$.\n",
    "* An activation function $\\sigma: \\mathbb{R} \\to \\mathbb{R}$ that computes the output $\\sigma(w^\\top x)$ of the neuron based on the sum of modulated features $w^\\top x$."
   ]
  },
  {
   "cell_type": "markdown",
   "metadata": {},
   "source": [
    "# Logistic Regression as an Artifical Neuron\n",
    "\n",
    "Logistic regression is a model of the form\n",
    "$$ f(x) = \\sigma(\\theta^\\top x) = \\frac{1}{1 + \\exp(-\\theta^\\top x)}, $$\n",
    "that can be interpreted as a neuron that uses the *sigmoid* as the activation function."
   ]
  },
  {
   "cell_type": "markdown",
   "metadata": {},
   "source": [
    "# Perceptron\n",
    "\n",
    "Another model of a neuron."
   ]
  },
  {
   "cell_type": "markdown",
   "metadata": {},
   "source": [
    "# Example\n",
    "\n",
    "Need to implement a small example. Can probably copy-paste implementation of LR from the LR slides."
   ]
  },
  {
   "cell_type": "markdown",
   "metadata": {},
   "source": [
    "# Activation Functions\n",
    "\n",
    "Let's list a few."
   ]
  },
  {
   "cell_type": "markdown",
   "metadata": {},
   "source": [
    "<left><img width=25% src=\"data:image/svg+xml;base64, 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\"></left>\n",
    "# Part 2: Artificial Neural Networks\n",
    "\n",
    "Let's now see how we can connect neurons into networks that form complex models that further mimic the brain."
   ]
  },
  {
   "cell_type": "markdown",
   "metadata": {},
   "source": [
    "# Review: Artificial Neuron\n",
    "\n",
    "We say that a neuron is a model $f : \\mathbb{R}^d \\to [0,1]$, with the following components:\n",
    "* Inputs $x_1,x_2,...,x_d$, denoted by a vector $x$.\n",
    "* Weight vector $w \\in \\mathbb{R}^d$ that modulates input $x$ as $w^\\top x$.\n",
    "* An activation function $\\sigma: \\mathbb{R} \\to \\mathbb{R}$ that computes the output $\\sigma(w^\\top x)$ of the neuron based on the sum of modulated features $w^\\top x$."
   ]
  },
  {
   "cell_type": "markdown",
   "metadata": {},
   "source": [
    "# Review: Logistic Regression as Neuron\n",
    "\n",
    "Logistic regression is a model of the form\n",
    "$$ f(x) = \\sigma(\\theta^\\top x) = \\frac{1}{1 + \\exp(-\\theta^\\top x)}, $$\n",
    "that can be interpreted as a neuron that uses the *sigmoid* as the activation function."
   ]
  },
  {
   "cell_type": "markdown",
   "metadata": {},
   "source": [
    "# Neural Networks: Intuition\n",
    "\n",
    "A neural network is a directed graph in which a node is a neuron that takes as input the outputs of the neurons that are connected to it.\n",
    "\n",
    "TODO: Add an image here. Maybe layer image from here: https://cs231n.github.io/neural-networks-1/ (It probably needs some annotations)\n",
    "\n",
    "Networks are typically organized in layers."
   ]
  },
  {
   "cell_type": "markdown",
   "metadata": {
    "slideshow": {
     "slide_type": "slide"
    }
   },
   "source": [
    "# Neural Networks: Layers\n",
    "\n",
    "A neural network layer is a model $f : \\mathbb{R}^d \\to \\mathbb{R}^p$ that applies $p$ neurons ih parallel to an input $x$.\n",
    "$$ f(x) = \\begin{bmatrix}\n",
    "\\sigma(w_1^\\top x) \\\\\n",
    "\\sigma(w_2^\\top x) \\\\\n",
    "\\vdots \\\\\n",
    "\\sigma(w_p^\\top x)\n",
    "\\end{bmatrix}.\n",
    "$$\n",
    "where each $w_k$ is the vector of weights for the $k$-th neuron. We refer to $p$ as the *size* of the layer."
   ]
  },
  {
   "cell_type": "markdown",
   "metadata": {
    "slideshow": {
     "slide_type": "subslide"
    }
   },
   "source": [
    "By combining the $w_k$ into one matrix $W$, we can write in a more succinct vectorized form:\n",
    "$$f(x) = \\sigma(W\\cdot x) = \\begin{bmatrix}\n",
    "\\sigma(w_1^\\top x) \\\\\n",
    "\\sigma(w_2^\\top x) \\\\\n",
    "\\vdots \\\\\n",
    "\\sigma(w_p^\\top x)\n",
    "\\end{bmatrix},\n",
    "$$\n",
    "where $\\sigma(W\\cdot x)_k = \\sigma(w_k^\\top x)$ and $W_{kj} = (w_k)_j$. "
   ]
  },
  {
   "cell_type": "markdown",
   "metadata": {},
   "source": [
    "# Neural Networks: Notation\n",
    "\n",
    "A neural network is a model $f : \\mathbb{R} \\to \\mathbb{R}$ that consists of a composition of $L$ neural network layers:\n",
    "$$ f(x) = f_L \\circ f_{L-1} \\circ \\ldots f_1 (x). $$\n",
    "The final layer $f_L$ has size one (assuming the neural net has one ouput); intermediary layers $f_l$ can have any number of neurons.\n",
    "\n",
    "The notation $f \\circ g(x)$ denotes the composition $f(g(x))$ of functions"
   ]
  },
  {
   "cell_type": "markdown",
   "metadata": {},
   "source": [
    "# Example of a Neural Network\n",
    "\n",
    "* Let's implement a small neural net in the same that we implemented logistic regression\n",
    "* Then we just run it"
   ]
  },
  {
   "cell_type": "markdown",
   "metadata": {},
   "source": [
    "# Types of Neural Network Layers\n",
    "\n",
    "There are many types of neural network layers that can exist. Here are a few:\n",
    "* Ouput layer: normally has one neuron and special activation function that depends on the problem\n",
    "* Input layer: normally, this is just the input vector $x$.\n",
    "* Hidden layer: Any layer between input and output.\n",
    "* Dense layer: A layer in which every input is connected ot every neuron.\n",
    "* Convolutional layer: A layer in which the operation $w^\\top x$ implements a mathematical [convolution](https://en.wikipedia.org/wiki/Convolution).\n",
    "* Anything else?"
   ]
  },
  {
   "cell_type": "markdown",
   "metadata": {},
   "source": [
    "# Neuroscience Angle\n",
    "\n",
    "Annything we should say here?"
   ]
  },
  {
   "cell_type": "markdown",
   "metadata": {},
   "source": [
    "<left><img width=25% src=\"data:image/svg+xml;base64, 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\"></left>\n",
    "# Part 3: Backpropagation\n",
    "\n",
    "We have defined what is an artificial neural network.\n",
    "\n",
    "Let's not see how we can train it."
   ]
  },
  {
   "cell_type": "markdown",
   "metadata": {},
   "source": [
    "# Review: Neural Network Layers\n",
    "\n",
    "A neural network layer is a model $f : \\mathbb{R}^d \\to \\mathbb{R}^p$ that applies $p$ neurons ih parallel to an input $x$.\n",
    "$$f(x) = \\sigma(W\\cdot x) = \\begin{bmatrix}\n",
    "\\sigma(w_1^\\top x) \\\\\n",
    "\\sigma(w_2^\\top x) \\\\\n",
    "\\vdots \\\\\n",
    "\\sigma(w_p^\\top x)\n",
    "\\end{bmatrix},\n",
    "$$\n",
    "where each $w_k$ is the vector of weights for the $k$-th neuron and $W_{kj} = (w_k)_j$. We refer to $p$ as the *size* of the layer."
   ]
  },
  {
   "cell_type": "markdown",
   "metadata": {},
   "source": [
    "# Review: Neural Networks\n",
    "\n",
    "A neural network is a model $f : \\mathbb{R} \\to \\mathbb{R}$ that consists of a composition of $L$ neural network layers:\n",
    "$$ f(x) = f_L \\circ f_{L-1} \\circ \\ldots f_1 (x). $$\n",
    "The final layer $f_L$ has size one (assuming the neural net has one ouput); intermediary layers $f_l$ can have any number of neurons.\n",
    "\n",
    "The notation $f \\circ g(x)$ denotes the composition $f(g(x))$ of functions\n",
    "\n",
    "TODO: Add some kind of image from the previous part of the lecture"
   ]
  },
  {
   "cell_type": "markdown",
   "metadata": {},
   "source": [
    "# Review: The Gradient\n",
    "\n",
    "The gradient $\\nabla_\\theta f$ further extends the derivative to multivariate functions $f : \\mathbb{R}^d \\to \\mathbb{R}$, and is defined at a point $\\theta_0$ as\n",
    "\n",
    "$$ \\nabla_\\theta f (\\theta_0) = \\begin{bmatrix}\n",
    "\\frac{\\partial f(\\theta_0)}{\\partial \\theta_1} \\\\\n",
    "\\frac{\\partial f(\\theta_0)}{\\partial \\theta_2} \\\\\n",
    "\\vdots \\\\\n",
    "\\frac{\\partial f(\\theta_0)}{\\partial \\theta_d}\n",
    "\\end{bmatrix}.$$\n",
    "\n",
    "In other words, the $j$-th entry of the vector $\\nabla_\\theta f (\\theta_0)$ is the partial derivative $\\frac{\\partial f(\\theta_0)}{\\partial \\theta_j}$ of $f$ with respect to the $j$-th component of $\\theta$."
   ]
  },
  {
   "cell_type": "markdown",
   "metadata": {},
   "source": [
    "# Review: Gradient Descent\n",
    "\n",
    "If we want to optimize an objective $J(\\theta)$, we start with an initial guess $\\theta_0$ for the parameters and repeat the following update until the function is no longer decreasing:\n",
    "$$ \\theta_i := \\theta_{i-1} - \\alpha \\cdot \\nabla_\\theta J(\\theta_{i-1}). $$\n",
    "\n",
    "As code, this method may look as follows:\n",
    "```python\n",
    "theta, theta_prev = random_initialization()\n",
    "while abs(J(theta) - J(theta_prev)) > conv_threshold:\n",
    "    theta_prev = theta\n",
    "    theta = theta_prev - step_size * gradient(theta_prev)\n",
    "```"
   ]
  },
  {
   "cell_type": "markdown",
   "metadata": {},
   "source": [
    "# Backpropagation\n",
    "\n",
    "How do we apply gradient descent to a neural network?\n",
    "\n",
    "Explain backpropgation"
   ]
  },
  {
   "cell_type": "markdown",
   "metadata": {},
   "source": [
    "# Review: Chain Rule of Calculus\n",
    "\n",
    "Probably will need to review this at some point."
   ]
  },
  {
   "cell_type": "markdown",
   "metadata": {},
   "source": [
    "# Example\n",
    "\n",
    "Let's implement backprop with the simple NN model we had earlier."
   ]
  },
  {
   "cell_type": "markdown",
   "metadata": {},
   "source": [
    "<left><img width=25% src=\"data:image/svg+xml;base64, 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\"></left>\n",
    "# Part 4: Stochastic Gradient Descent\n",
    "\n",
    "In practice, neural networks are often trained on very large datasets.\n",
    "\n",
    "This requires a mosification to the gradient descent algorithm that we have seen earlier."
   ]
  },
  {
   "cell_type": "markdown",
   "metadata": {},
   "source": [
    "Volodymyr will create this section"
   ]
  },
  {
   "cell_type": "code",
   "execution_count": null,
   "metadata": {},
   "outputs": [],
   "source": []
  }
 ],
 "metadata": {
  "accelerator": "GPU",
  "celltoolbar": "Slideshow",
  "colab": {
   "collapsed_sections": [],
   "name": "neural-ode.ipynb",
   "provenance": []
  },
  "kernelspec": {
   "display_name": "Python 3 (ipykernel)",
   "language": "python",
   "name": "python3"
  },
  "language_info": {
   "codemirror_mode": {
    "name": "ipython",
    "version": 3
   },
   "file_extension": ".py",
   "mimetype": "text/x-python",
   "name": "python",
   "nbconvert_exporter": "python",
   "pygments_lexer": "ipython3",
   "version": "3.8.12"
  },
  "rise": {
   "controlsTutorial": false,
   "height": 900,
   "help": false,
   "margin": 0,
   "maxScale": 2,
   "minScale": 0.2,
   "progress": true,
   "scroll": true,
   "theme": "simple",
   "width": 1200
  }
 },
 "nbformat": 4,
 "nbformat_minor": 1
}
