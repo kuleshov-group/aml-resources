{
 "cells": [
  {
   "cell_type": "markdown",
   "metadata": {
    "colab_type": "text",
    "id": "i_f5u2x9nn6I",
    "slideshow": {
     "slide_type": "slide"
    }
   },
   "source": [
    "<left><img width=25% src=\"https://kuleshov-group.github.io/aml-resources/img/cornell_tech2.svg\"></left>\n",
    "\n",
    "# Lecture 13: Boosting\n",
    "\n",
    "### Applied Machine Learning\n",
    "\n",
    "__Volodymyr Kuleshov__<br>Cornell Tech"
   ]
  },
  {
   "cell_type": "markdown",
   "metadata": {
    "slideshow": {
     "slide_type": "slide"
    }
   },
   "source": [
    "# Part 1: Boosting and Ensembling\n",
    "\n",
    "We are now going to look at ways in which multiple machine learning can be combined.\n",
    "\n",
    "In particular, we will look at a way of combining models called *boosting*.\n",
    "<!-- We are now going to see a different way of combining models called *boosting*. -->"
   ]
  },
  {
   "cell_type": "markdown",
   "metadata": {
    "slideshow": {
     "slide_type": "skip"
    }
   },
   "source": [
    "# Review: Components of A Supervised Machine Learning Problem\n",
    "\n",
    "At a high level, a supervised machine learning problem has the following structure:\n",
    "\n",
    "$$ \\underbrace{\\text{Training Dataset}}_\\text{Attributes + Features} + \\underbrace{\\text{Learning Algorithm}}_\\text{Model Class + Objective + Optimizer } \\to \\text{Predictive Model} $$"
   ]
  },
  {
   "cell_type": "markdown",
   "metadata": {
    "slideshow": {
     "slide_type": "slide"
    }
   },
   "source": [
    "# Review: Overfitting\n",
    "\n",
    "Overfitting is one of the most common failure modes of machine learning.\n",
    "* A very expressive model (a high degree polynomial) fits the training dataset perfectly.\n",
    "* The model also makes wildly incorrect prediction outside this dataset, and doesn't generalize."
   ]
  },
  {
   "cell_type": "markdown",
   "metadata": {
    "slideshow": {
     "slide_type": "slide"
    }
   },
   "source": [
    "# Review: Bagging\n",
    "\n",
    "The idea of *bagging* is to reduce *overfitting* by averaging many models trained on random subsets of the data.\n",
    "\n",
    "```python\n",
    "for i in range(n_models):\n",
    "    # collect data samples and fit models\n",
    "    X_i, y_i = sample_with_replacement(X, y, n_samples)\n",
    "    model = Model().fit(X_i, y_i)\n",
    "    ensemble.append(model)\n",
    "\n",
    "# output average prediction at test time:\n",
    "y_test = ensemble.average_prediction(y_test)\n",
    "```\n",
    "The data samples are taken with replacement and known as bootstrap samples."
   ]
  },
  {
   "cell_type": "markdown",
   "metadata": {
    "slideshow": {
     "slide_type": "slide"
    }
   },
   "source": [
    "# Review: Underfitting\n",
    "\n",
    "Underfitting is another common problem in machine learning.\n",
    "* The model is too simple to fit the data well (e.g., approximating a high degree polynomial with linear regression).\n",
    "* As a result, the model is not accurate on training data and is not accurate on new data."
   ]
  },
  {
   "cell_type": "markdown",
   "metadata": {
    "slideshow": {
     "slide_type": "slide"
    }
   },
   "source": [
    "# Boosting\n",
    "\n",
    "The idea of *boosting* is to reduce *underfitting* by combining models that correct each others' errors."
   ]
  },
  {
   "cell_type": "markdown",
   "metadata": {
    "slideshow": {
     "slide_type": "fragment"
    }
   },
   "source": [
    "* As in bagging, we combine many models $g_t$ into one *ensemble* $f$."
   ]
  },
  {
   "cell_type": "markdown",
   "metadata": {
    "slideshow": {
     "slide_type": "fragment"
    }
   },
   "source": [
    "* Unlike bagging, the $g_t$ are small and tend to underfit."
   ]
  },
  {
   "cell_type": "markdown",
   "metadata": {
    "slideshow": {
     "slide_type": "fragment"
    }
   },
   "source": [
    "* Each $g_t$ fits the points where the previous models made errors."
   ]
  },
  {
   "cell_type": "markdown",
   "metadata": {
    "slideshow": {
     "slide_type": "slide"
    }
   },
   "source": [
    "# Weak Learners\n",
    "\n",
    "A key ingredient of a boosting algorithm is a *weak learner*.\n",
    "\n",
    "* Intuitively, this is a model that is slightly better than random.\n",
    "* Examples of weak learners include: small linear models, small decision trees."
   ]
  },
  {
   "cell_type": "markdown",
   "metadata": {
    "slideshow": {
     "slide_type": "slide"
    }
   },
   "source": [
    "# Structure of a Boosting Algorithm\n",
    "\n",
    "The idea of *boosting* is to reduce *underfitting* by combining models that correct each others' errors."
   ]
  },
  {
   "cell_type": "markdown",
   "metadata": {
    "slideshow": {
     "slide_type": "fragment"
    }
   },
   "source": [
    "1. Fit a weak learner $g_0$ on dataset $\\mathcal{D} = \\{(x^{(i)}, y^{(i)})\\}$. Let $f=g$."
   ]
  },
  {
   "cell_type": "markdown",
   "metadata": {
    "slideshow": {
     "slide_type": "fragment"
    }
   },
   "source": [
    "2. Compute weights $w^{(i)}$ for each $i$ based on model predictions $f(x^{(i)})$ and targets $y^{(i)}$. Give more weight to points with errors."
   ]
  },
  {
   "cell_type": "markdown",
   "metadata": {
    "slideshow": {
     "slide_type": "fragment"
    }
   },
   "source": [
    "3. Fit another weak learner $g_1$ on $\\mathcal{D} = \\{(x^{(i)}, y^{(i)})\\}$ with weights $w^{(i)}$."
   ]
  },
  {
   "cell_type": "markdown",
   "metadata": {
    "slideshow": {
     "slide_type": "fragment"
    }
   },
   "source": [
    "4. Set $f_1 = g_0 + \\alpha_1 g$ for some weight $\\alpha_1$. Go to Step 2 and repeat."
   ]
  },
  {
   "cell_type": "markdown",
   "metadata": {
    "slideshow": {
     "slide_type": "subslide"
    }
   },
   "source": [
    "In Python-like pseudocode this looks as follows:\n",
    "\n",
    "```python\n",
    "weights = np.ones(n_data,)\n",
    "for i in range(n_models):\n",
    "    model = SimpleBaseModel().fit(X, y, weights)\n",
    "    predictions = model.predict(X)\n",
    "    weights = update_weights(weights, predictions)\n",
    "    ensemble.add(model)\n",
    "\n",
    "# output consensus prediction at test time:\n",
    "y_test = ensemble.consensus_prediction(y_test)\n",
    "```"
   ]
  },
  {
   "cell_type": "markdown",
   "metadata": {
    "slideshow": {
     "slide_type": "slide"
    }
   },
   "source": [
    "# Origins of Boosting\n",
    "\n",
    "Boosting algorithms were initially developed in the 90s within theoretical machine learning.\n",
    "\n",
    "* Originally, boosting addressed a theoretical question of whether weak learners with >50% accuracy can be combined to form a strong learner.\n",
    "* Eventually, this research led to a practical algorithm called *Adaboost*.\n",
    "\n",
    "Today, there exist many algorithms that are considered types of boosting, even though they were not derived from a theoretical angle."
   ]
  },
  {
   "cell_type": "markdown",
   "metadata": {
    "slideshow": {
     "slide_type": "slide"
    }
   },
   "source": [
    "# Algorithm: Adaboost\n",
    "\n",
    "* __Type__: Supervised learning (classification).\n",
    "* __Model family__: Ensembles of weak learners (often decision trees).\n",
    "* __Objective function__: Exponential loss.\n",
    "* __Optimizer__: Forward stagewise additive model building."
   ]
  },
  {
   "cell_type": "markdown",
   "metadata": {
    "slideshow": {
     "slide_type": "slide"
    }
   },
   "source": [
    "# Defining Adaboost\n",
    "\n",
    "One of the first practical boosting algorithms was *Adaboost*.\n",
    "\n",
    "We start with uniform $w^{(i)} = 1/n$ and $f = 0$. Then for $t=1,2,...,T$:"
   ]
  },
  {
   "cell_type": "markdown",
   "metadata": {
    "slideshow": {
     "slide_type": "fragment"
    }
   },
   "source": [
    "1. Fit weak learner $g_t$ on $\\mathcal{D}$ with weights $w^{(i)}$."
   ]
  },
  {
   "cell_type": "markdown",
   "metadata": {
    "slideshow": {
     "slide_type": "fragment"
    }
   },
   "source": [
    "2. Compute misclassification error $e_t = \\frac{\\sum_{i=1}^n w^{(i)} \\mathbb{I}\\{y^{(i)} \\neq f(x^{(i)})\\}}{\\sum_{i=1}^n w^{(i)}}$"
   ]
  },
  {
   "cell_type": "markdown",
   "metadata": {
    "slideshow": {
     "slide_type": "fragment"
    }
   },
   "source": [
    "3. Compute model weight $\\alpha_t = \\log[(1-e_t)/e_t]$. Set $f \\gets f + \\alpha_t g_t$."
   ]
  },
  {
   "cell_type": "markdown",
   "metadata": {
    "slideshow": {
     "slide_type": "fragment"
    }
   },
   "source": [
    "4. Compute new data weights $w^{(i)} \\gets w^{(i)}\\exp[\\alpha_t \\mathbb{I}\\{y^{(i)} \\neq f(x^{(i)})\\} ]$."
   ]
  },
  {
   "cell_type": "markdown",
   "metadata": {
    "slideshow": {
     "slide_type": "slide"
    }
   },
   "source": [
    "# Adaboost: An Example\n",
    "\n",
    "Let's implement Adaboost on a simple dataset to see what it can do."
   ]
  },
  {
   "cell_type": "markdown",
   "metadata": {
    "slideshow": {
     "slide_type": "subslide"
    }
   },
   "source": [
    "Let's start by creating a classification dataset."
   ]
  },
  {
   "cell_type": "code",
   "execution_count": 1,
   "metadata": {
    "slideshow": {
     "slide_type": "fragment"
    }
   },
   "outputs": [],
   "source": [
    "# https://scikit-learn.org/stable/auto_examples/ensemble/plot_adaboost_twoclass.html\n",
    "import numpy as np\n",
    "from sklearn.datasets import make_gaussian_quantiles\n",
    "\n",
    "# Construct dataset\n",
    "X1, y1 = make_gaussian_quantiles(cov=2., n_samples=200, n_features=2, n_classes=2, random_state=1)\n",
    "X2, y2 = make_gaussian_quantiles(mean=(3, 3), cov=1.5, n_samples=300, n_features=2, n_classes=2, random_state=1)\n",
    "X = np.concatenate((X1, X2))\n",
    "y = np.concatenate((y1, - y2 + 1))"
   ]
  },
  {
   "cell_type": "markdown",
   "metadata": {
    "slideshow": {
     "slide_type": "subslide"
    }
   },
   "source": [
    "We can visualize this dataset using `matplotlib`."
   ]
  },
  {
   "cell_type": "code",
   "execution_count": 15,
   "metadata": {
    "slideshow": {
     "slide_type": "fragment"
    }
   },
   "outputs": [
    {
     "data": {
      "text/plain": [
       "<matplotlib.legend.Legend at 0x12afda198>"
      ]
     },
     "execution_count": 15,
     "metadata": {},
     "output_type": "execute_result"
    },
    {
     "data": {
      "image/png": "[encoded data removed]",
      "text/plain": [
       "<Figure size 864x288 with 1 Axes>"
      ]
     },
     "metadata": {
      "needs_background": "light"
     },
     "output_type": "display_data"
    }
   ],
   "source": [
    "import matplotlib.pyplot as plt\n",
    "plt.rcParams['figure.figsize'] = [12, 4]\n",
    "\n",
    "# Plot the training points\n",
    "plot_colors, plot_step, class_names = \"br\", 0.02, \"AB\"\n",
    "x_min, x_max = X[:, 0].min() - 1, X[:, 0].max() + 1\n",
    "y_min, y_max = X[:, 1].min() - 1, X[:, 1].max() + 1\n",
    "\n",
    "for i, n, c in zip(range(2), class_names, plot_colors):\n",
    "    idx = np.where(y == i)\n",
    "    plt.scatter(X[idx, 0], X[idx, 1], cmap=plt.cm.Paired, s=60, edgecolor='k', label=\"Class %s\" % n)\n",
    "plt.xlim(x_min, x_max)\n",
    "plt.ylim(y_min, y_max)\n",
    "plt.legend(loc='upper right')"
   ]
  },
  {
   "cell_type": "markdown",
   "metadata": {
    "slideshow": {
     "slide_type": "subslide"
    }
   },
   "source": [
    "Let's now train Adaboost on this dataset."
   ]
  },
  {
   "cell_type": "code",
   "execution_count": 12,
   "metadata": {
    "slideshow": {
     "slide_type": "fragment"
    }
   },
   "outputs": [
    {
     "data": {
      "text/plain": [
       "AdaBoostClassifier(algorithm='SAMME',\n",
       "                   base_estimator=DecisionTreeClassifier(max_depth=1),\n",
       "                   n_estimators=200)"
      ]
     },
     "execution_count": 12,
     "metadata": {},
     "output_type": "execute_result"
    }
   ],
   "source": [
    "from sklearn.ensemble import AdaBoostClassifier\n",
    "from sklearn.tree import DecisionTreeClassifier\n",
    "\n",
    "# Create and fit an AdaBoosted decision tree\n",
    "bdt = AdaBoostClassifier(DecisionTreeClassifier(max_depth=1),\n",
    "                         algorithm=\"SAMME\",\n",
    "                         n_estimators=200)\n",
    "bdt.fit(X, y)"
   ]
  },
  {
   "cell_type": "markdown",
   "metadata": {
    "slideshow": {
     "slide_type": "subslide"
    }
   },
   "source": [
    "Visualizing the output of the algorithm, we see that it can learn a highly non-linear decision boundary to separate the two classes."
   ]
  },
  {
   "cell_type": "code",
   "execution_count": 14,
   "metadata": {
    "slideshow": {
     "slide_type": "fragment"
    }
   },
   "outputs": [
    {
     "data": {
      "text/plain": [
       "<matplotlib.legend.Legend at 0x12b3b8438>"
      ]
     },
     "execution_count": 14,
     "metadata": {},
     "output_type": "execute_result"
    },
    {
     "data": {
      "image/png": "[encoded data removed]",
      "text/plain": [
       "<Figure size 864x288 with 1 Axes>"
      ]
     },
     "metadata": {
      "needs_background": "light"
     },
     "output_type": "display_data"
    }
   ],
   "source": [
    "xx, yy = np.meshgrid(np.arange(x_min, x_max, plot_step), np.arange(y_min, y_max, plot_step))\n",
    "\n",
    "# plot decision boundary\n",
    "Z = bdt.predict(np.c_[xx.ravel(), yy.ravel()])\n",
    "Z = Z.reshape(xx.shape)\n",
    "cs = plt.contourf(xx, yy, Z, cmap=plt.cm.Paired)\n",
    "\n",
    "# plot training points\n",
    "for i, n, c in zip(range(2), class_names, plot_colors):\n",
    "    idx = np.where(y == i)\n",
    "    plt.scatter(X[idx, 0], X[idx, 1], cmap=plt.cm.Paired, s=60, edgecolor='k', label=\"Class %s\" % n)\n",
    "plt.xlim(x_min, x_max)\n",
    "plt.ylim(y_min, y_max)\n",
    "plt.legend(loc='upper right')"
   ]
  },
  {
   "cell_type": "markdown",
   "metadata": {
    "slideshow": {
     "slide_type": "slide"
    }
   },
   "source": [
    "# Ensembling\n",
    "\n",
    "Boosting and bagging are special cases of *ensembling*.\n",
    "\n",
    "The idea of ensembling is to combine many models into one. Bagging and Boosting are ensembling techniques to reduce over- and under-fitting."
   ]
  },
  {
   "cell_type": "markdown",
   "metadata": {
    "slideshow": {
     "slide_type": "fragment"
    }
   },
   "source": [
    "* In stacking, we train $m$ independent models $g_j(x)$ (possibly from different model classes) and then train another model $f(x)$ to prodict $y$ from the outputs of the $g_j$."
   ]
  },
  {
   "cell_type": "markdown",
   "metadata": {
    "slideshow": {
     "slide_type": "fragment"
    }
   },
   "source": [
    "* The Bayesian approach can also be seen as form of ensembling\n",
    "$$ P(y\\mid x) = \\int_\\theta P(y\\mid x,\\theta) P(\\theta \\mid \\mathcal{D}) d\\theta $$\n",
    "where we average models $P(y\\mid x,\\theta)$ using weights $P(\\theta \\mid \\mathcal{D})$."
   ]
  },
  {
   "cell_type": "markdown",
   "metadata": {
    "slideshow": {
     "slide_type": "slide"
    }
   },
   "source": [
    "# Pros and Cons of Ensembling\n",
    "\n",
    "Ensembling is a useful tecnique in machine learning.\n",
    "* It often helps squeeze out additional performance out of ML algorithms.\n",
    "* Many algorithms (like Adaboost) are forms of ensembling.\n",
    "\n",
    "Disadvantages include:\n",
    "* It can be computationally expensive to train and use ensembles."
   ]
  },
  {
   "cell_type": "markdown",
   "metadata": {
    "slideshow": {
     "slide_type": "slide"
    }
   },
   "source": [
    "<left><img width=25% src=\"https://kuleshov-group.github.io/aml-resources/img/cornell_tech2.svg\"></left>\n",
    "# Part 2: Additive Models\n",
    "\n",
    "Next, we are going to see another perspective on boosting and derive new boosting algorithms."
   ]
  },
  {
   "cell_type": "markdown",
   "metadata": {
    "slideshow": {
     "slide_type": "skip"
    }
   },
   "source": [
    "# The Components of A Supervised Machine Learning Algorithm\n",
    "\n",
    "We can define the high-level structure of a supervised learning algorithm as consisting of three components:\n",
    "* A __model class__: the set of possible models we consider.\n",
    "* An __objective__ function, which defines how good a model is.\n",
    "* An __optimizer__, which finds the best predictive model in the model class according to the objective function"
   ]
  },
  {
   "cell_type": "markdown",
   "metadata": {
    "slideshow": {
     "slide_type": "slide"
    }
   },
   "source": [
    "# Review: Underfitting\n",
    "\n",
    "Underfitting is another common problem in machine learning.\n",
    "* The model is too simple to fit the data well (e.g., approximating a high degree polynomial with linear regression).\n",
    "* As a result, the model is not accurate on training data and is not accurate on new data."
   ]
  },
  {
   "cell_type": "markdown",
   "metadata": {
    "slideshow": {
     "slide_type": "slide"
    }
   },
   "source": [
    "# Review: Boosting\n",
    "\n",
    "The idea of *boosting* is to reduce *underfitting* by combining models that correct each others' errors."
   ]
  },
  {
   "cell_type": "markdown",
   "metadata": {
    "slideshow": {
     "slide_type": "fragment"
    }
   },
   "source": [
    "* As in bagging, we combine many models $g_i$ into one *ensemble* $f$."
   ]
  },
  {
   "cell_type": "markdown",
   "metadata": {
    "slideshow": {
     "slide_type": "fragment"
    }
   },
   "source": [
    "* Unlike bagging, the $g_i$ are small and tend to underfit."
   ]
  },
  {
   "cell_type": "markdown",
   "metadata": {
    "slideshow": {
     "slide_type": "fragment"
    }
   },
   "source": [
    "* Each $g_i$ fits the points where the previous models made errors."
   ]
  },
  {
   "cell_type": "markdown",
   "metadata": {
    "slideshow": {
     "slide_type": "slide"
    }
   },
   "source": [
    "# Additive Models\n",
    "\n",
    "Boosting can be seen as a way of fitting an *additive model*:\n",
    "$$ f(x) = \\sum_{t=1}^T \\alpha_t g(x; \\phi_t). $$"
   ]
  },
  {
   "cell_type": "markdown",
   "metadata": {
    "slideshow": {
     "slide_type": "fragment"
    }
   },
   "source": [
    "* The main model $f(x)$ consists of $T$ smaller models $g$ with weights $\\alpha_t$ and paramaters $\\phi_t$."
   ]
  },
  {
   "cell_type": "markdown",
   "metadata": {
    "slideshow": {
     "slide_type": "fragment"
    }
   },
   "source": [
    "* The parameters are the $\\alpha_t$ plus the parameters $\\phi_t$ of each $g$."
   ]
  },
  {
   "cell_type": "markdown",
   "metadata": {
    "slideshow": {
     "slide_type": "fragment"
    }
   },
   "source": [
    "This is more general than a linear model, because $g$ can be non-linear in $\\phi_t$ (therefore so is $f$)."
   ]
  },
  {
   "cell_type": "markdown",
   "metadata": {
    "slideshow": {
     "slide_type": "slide"
    }
   },
   "source": [
    "# Example: Boosting Algorithms\n",
    "\n",
    "Boosting is one way of training additive models."
   ]
  },
  {
   "cell_type": "markdown",
   "metadata": {
    "slideshow": {
     "slide_type": "fragment"
    }
   },
   "source": [
    "1. Fit a weak learner $g_0$ on dataset $\\mathcal{D} = \\{(x^{(i)}, y^{(i)})\\}$. Let $f=g$."
   ]
  },
  {
   "cell_type": "markdown",
   "metadata": {
    "slideshow": {
     "slide_type": "fragment"
    }
   },
   "source": [
    "2. Compute weights $w^{(i)}$ for each $i$ based on model predictions $f(x^{(i)})$ and targets $y^{(i)}$. Give more weight to points with errors."
   ]
  },
  {
   "cell_type": "markdown",
   "metadata": {
    "slideshow": {
     "slide_type": "fragment"
    }
   },
   "source": [
    "3. Fit another weak learner $g_1$ on $\\mathcal{D} = \\{(x^{(i)}, y^{(i)})\\}$ with weights $w^{(i)}$."
   ]
  },
  {
   "cell_type": "markdown",
   "metadata": {
    "slideshow": {
     "slide_type": "fragment"
    }
   },
   "source": [
    "4. Set $f_1 = g_0 + \\alpha_1 g$ for some weight $\\alpha_1$. Go to Step 2 and repeat."
   ]
  },
  {
   "cell_type": "markdown",
   "metadata": {
    "slideshow": {
     "slide_type": "slide"
    }
   },
   "source": [
    "# Forward Stagewise Additive Modeling\n",
    "\n",
    "A general way to fit additive models is the forward stagewise approach."
   ]
  },
  {
   "cell_type": "markdown",
   "metadata": {
    "slideshow": {
     "slide_type": "fragment"
    }
   },
   "source": [
    "* Suppose we have a loss $L : \\mathcal{Y} \\times \\mathcal{Y} \\to [0, \\infty)$."
   ]
  },
  {
   "cell_type": "markdown",
   "metadata": {
    "slideshow": {
     "slide_type": "fragment"
    }
   },
   "source": [
    "* Start with $f_0 = \\arg \\min_\\phi \\sum_{i=1}^n L(y^{(i)}, g(x^{(i)}; \\phi))$."
   ]
  },
  {
   "cell_type": "markdown",
   "metadata": {
    "slideshow": {
     "slide_type": "fragment"
    }
   },
   "source": [
    "* At each iteration $t$ we fit the best addition to the current model.\n",
    "$$ \\alpha_t, \\phi_t = \\arg\\min_{\\alpha, \\phi} \\sum_{i=1}^n L(y^{(i)}, f_{t-1}(x^{(i)}) + \\alpha g(x^{(i)}; \\phi))$$"
   ]
  },
  {
   "cell_type": "markdown",
   "metadata": {
    "slideshow": {
     "slide_type": "slide"
    }
   },
   "source": [
    "# Practical Considerations\n",
    "\n",
    "* Popular choices of $g$ include cubic splines, decision trees and kernelized models.\n",
    "* We may use a fix number of iterations $T$ or early stopping when the error on a hold-out set no longer improves.\n",
    "* An important design choice is the loss $L$."
   ]
  },
  {
   "cell_type": "markdown",
   "metadata": {
    "slideshow": {
     "slide_type": "slide"
    }
   },
   "source": [
    "# Exponential Loss\n",
    "\n",
    "Give a binary classification problem with labels $\\mathcal{Y} = \\{-1, +1\\}$, the exponential loss is defined as\n",
    "\n",
    "$$ L(y, f) = \\exp(-y \\cdot f). $$\n",
    "\n",
    "* When $y=1$, $L$ is small when $f \\to \\infty$.\n",
    "* When $y=-1$, $L$ is small when $f \\to - \\infty$."
   ]
  },
  {
   "cell_type": "markdown",
   "metadata": {
    "slideshow": {
     "slide_type": "subslide"
    }
   },
   "source": [
    "Let's visualize the exponential loss and compare it to other losses."
   ]
  },
  {
   "cell_type": "code",
   "execution_count": 23,
   "metadata": {
    "slideshow": {
     "slide_type": "fragment"
    }
   },
   "outputs": [
    {
     "data": {
      "image/png": "[encoded data removed]",
      "text/plain": [
       "<Figure size 864x288 with 4 Axes>"
      ]
     },
     "metadata": {
      "needs_background": "light"
     },
     "output_type": "display_data"
    }
   ],
   "source": [
    "from matplotlib import pyplot as plt\n",
    "import numpy as np\n",
    "plt.rcParams['figure.figsize'] = [12, 4]\n",
    "\n",
    "# define the losses for a target of y=1\n",
    "losses = {\n",
    "    'Hinge' : lambda f: np.maximum(1 - f, 0),\n",
    "    'L2': lambda f: (1-f)**2,\n",
    "    'L1': lambda f: np.abs(f-1),\n",
    "    'Exponential': lambda f: np.exp(-f)\n",
    "}\n",
    "\n",
    "# plot them\n",
    "f = np.linspace(0, 2)\n",
    "fig, axes = plt.subplots(2,2)\n",
    "for ax, (name, loss) in zip(axes.flatten(), losses.items()):\n",
    "    ax.plot(f, loss(f))\n",
    "    ax.set_title('%s Loss' % name)\n",
    "    ax.set_xlabel('Prediction f')\n",
    "    ax.set_ylabel('L(y=1,f)')\n",
    "plt.tight_layout()"
   ]
  },
  {
   "cell_type": "markdown",
   "metadata": {
    "slideshow": {
     "slide_type": "slide"
    }
   },
   "source": [
    "# Special Case: Adaboost\n",
    "\n",
    "Adaboost is an instance of forward stagewise additive modeling with the expoential loss."
   ]
  },
  {
   "cell_type": "markdown",
   "metadata": {
    "slideshow": {
     "slide_type": "fragment"
    }
   },
   "source": [
    "At each step $t$ we minimize\n",
    "$$L_t = \\sum_{i=1}^n e^{-y^{(i)}(f_{t-1}(x^{(i)}) + \\alpha g(x^{(i)}; \\phi))} = \\sum_{i=1}^n w^{(i)} \\exp\\left(-y^{(i)}\\alpha g(x^{(i)}; \\phi)\\right) $$\n",
    "with $w^{(i)} = \\exp(-y^{(i)}f_{t-1}(x^{(i)}))$.\n",
    "\n",
    "We can derive the Adaboost update rules from this equation."
   ]
  },
  {
   "cell_type": "markdown",
   "metadata": {
    "slideshow": {
     "slide_type": "subslide"
    }
   },
   "source": [
    "Suppose that $g(y; \\phi) \\in \\{-1,1\\}$. With a bit of algebraic manipulations, we get that:\n",
    "\\begin{align*}\n",
    "L_t & = e^{\\alpha} \\sum_{y^{(i)} \\neq g(x^{(i)})} w^{(i)} + e^{-\\alpha} \\sum_{y^{(i)} = g(x^{(i)})} w^{(i)} \\\\\n",
    "& = (e^{\\alpha} - e^{-\\alpha}) \\sum_{i=1}^n w^{(i)} \\mathbb{I}\\{{y^{(i)} \\neq g(x^{(i)})}\\} + e^{-\\alpha} \\sum_{i=1}^n w^{(i)}.\\\\\n",
    "\\end{align*}\n",
    "where $\\mathbb{I}\\{\\cdot\\}$ is the indicator function."
   ]
  },
  {
   "cell_type": "markdown",
   "metadata": {
    "slideshow": {
     "slide_type": "subslide"
    }
   },
   "source": [
    "From there, we get that:\n",
    "\\begin{align*}\n",
    "\\phi_t & = \\arg\\min_{\\phi} \\sum_{i=1}^n w^{(i)} \\mathbb{I}\\{{y^{(i)} \\neq g(x^{(i)}; \\phi)}\\} \\\\\n",
    "\\alpha_t & = \\log[(1-e_t)/e_t]\n",
    "\\end{align*}\n",
    "where $e_t = \\frac{\\sum_{i=1}^n w^{(i)} \\mathbb{I}\\{y^{(i)} \\neq f(x^{(i)})\\}}{\\sum_{i=1}^n w^{(i)}\\}}$.\n",
    "\n",
    "These are update rules for Adaboost, and it's not hard to show that the update rule for $w^{(i)}$ is the same as well."
   ]
  },
  {
   "cell_type": "markdown",
   "metadata": {
    "slideshow": {
     "slide_type": "slide"
    }
   },
   "source": [
    "# Squared Loss\n",
    "\n",
    "Another popular choice of loss is the squared loss.\n",
    "$$ L(y, f) = (y-f)^2. $$"
   ]
  },
  {
   "cell_type": "markdown",
   "metadata": {
    "slideshow": {
     "slide_type": "fragment"
    }
   },
   "source": [
    "The resulting algorithm is often called L2Boost. At step $t$ we minimize\n",
    "$$\\sum_{i=1}^n (r^{(i)}_t - g(x^{(i)}; \\phi))^2, $$\n",
    "where $r^{(i)}_t = y^{(i)} - f(x^{(i)})_{t-1}$ is the residual from the model at time $t-1$."
   ]
  },
  {
   "cell_type": "markdown",
   "metadata": {
    "slideshow": {
     "slide_type": "slide"
    }
   },
   "source": [
    "# Logistic Loss\n",
    "\n",
    "Another common loss is the log-loss. When $\\mathcal{Y}=\\{-1,1\\}$ it is defined as:\n",
    "\n",
    "$$L(y, f) = \\log(1+\\exp(-2\\cdot y\\cdot f)).$$\n",
    "\n",
    "This looks like the log of the exponential loss; it is less sensitive to outliers since it doesn't penalize large errors as much."
   ]
  },
  {
   "cell_type": "code",
   "execution_count": 25,
   "metadata": {
    "slideshow": {
     "slide_type": "subslide"
    }
   },
   "outputs": [
    {
     "data": {
      "image/png": "[encoded data removed]",
      "text/plain": [
       "<Figure size 864x288 with 4 Axes>"
      ]
     },
     "metadata": {
      "needs_background": "light"
     },
     "output_type": "display_data"
    }
   ],
   "source": [
    "from matplotlib import pyplot as plt\n",
    "import numpy as np\n",
    "plt.rcParams['figure.figsize'] = [12, 4]\n",
    "\n",
    "# define the losses for a target of y=1\n",
    "losses = {\n",
    "    'Hinge' : lambda f: np.maximum(1 - f, 0),\n",
    "    'L2': lambda f: (1-f)**2,\n",
    "    'Logistic': lambda f: np.log(1+np.exp(-2*f)),\n",
    "    'Exponential': lambda f: np.exp(-f)\n",
    "}\n",
    "\n",
    "# plot them\n",
    "f = np.linspace(0, 2)\n",
    "fig, axes = plt.subplots(2,2)\n",
    "for ax, (name, loss) in zip(axes.flatten(), losses.items()):\n",
    "    ax.plot(f, loss(f))\n",
    "    ax.set_title('%s Loss' % name)\n",
    "    ax.set_xlabel('Prediction f')\n",
    "    ax.set_ylabel('L(y=1,f)')\n",
    "    ax.set_ylim([0,1])\n",
    "plt.tight_layout()"
   ]
  },
  {
   "cell_type": "markdown",
   "metadata": {
    "slideshow": {
     "slide_type": "subslide"
    }
   },
   "source": [
    "In the context of boosting, we minimize\n",
    "$$J(\\alpha, \\phi) = \\sum_{i=1}^n \\log\\left(1+\\exp\\left(-2y^{(i)}(f_{t-1}(x^{(i)}) + \\alpha g(x^{(i)}; \\phi)\\right)\\right).$$"
   ]
  },
  {
   "cell_type": "markdown",
   "metadata": {
    "slideshow": {
     "slide_type": "fragment"
    }
   },
   "source": [
    "This give a different weight update compared to Adabost. This algorithm is called LogitBoost."
   ]
  },
  {
   "cell_type": "markdown",
   "metadata": {
    "slideshow": {
     "slide_type": "slide"
    }
   },
   "source": [
    "# Pros and Cons of Boosting\n",
    "\n",
    "The boosting algorithms we have seen so far improve over Adaboost.\n",
    "* They optimize a wide range of objectives.\n",
    "* Thus, they are more robust to outliers and extend beyond classification.\n",
    "\n",
    "Cons:\n",
    "* Computational time is still an issue.\n",
    "* Optimizing greedily over each $\\phi_t$ can take time.\n",
    "* Each loss requires specialized derivations."
   ]
  },
  {
   "cell_type": "markdown",
   "metadata": {
    "slideshow": {
     "slide_type": "slide"
    }
   },
   "source": [
    "# Summary\n",
    "\n",
    "* Additive models have the form\n",
    "$$ f(x) = \\sum_{t=1}^T \\alpha_t g(x; \\phi_t). $$\n",
    "* These models can be fit using the forward stagewise additive approach.\n",
    "* This reproduces Adaboost and can be used to derive new boosting-type algorithms."
   ]
  },
  {
   "cell_type": "markdown",
   "metadata": {
    "slideshow": {
     "slide_type": "slide"
    }
   },
   "source": [
    "<left><img width=25% src=\"https://kuleshov-group.github.io/aml-resources/img/cornell_tech2.svg\"></left>\n",
    "# Part 3: Gradient Boosting\n",
    "\n",
    "We are now going to see another way of deriving boosting algorithms that is inspired by gradient descent."
   ]
  },
  {
   "cell_type": "markdown",
   "metadata": {
    "slideshow": {
     "slide_type": "slide"
    }
   },
   "source": [
    "# Review: Boosting\n",
    "\n",
    "The idea of *boosting* is to reduce *underfitting* by combining models that correct each others' errors."
   ]
  },
  {
   "cell_type": "markdown",
   "metadata": {
    "slideshow": {
     "slide_type": "fragment"
    }
   },
   "source": [
    "* As in bagging, we combine many models $g_i$ into one *ensemble* $f$."
   ]
  },
  {
   "cell_type": "markdown",
   "metadata": {
    "slideshow": {
     "slide_type": "fragment"
    }
   },
   "source": [
    "* Unlike bagging, the $g_i$ are small and tend to underfit."
   ]
  },
  {
   "cell_type": "markdown",
   "metadata": {
    "slideshow": {
     "slide_type": "fragment"
    }
   },
   "source": [
    "* Each $g_i$ fits the points where the previous models made errors."
   ]
  },
  {
   "cell_type": "markdown",
   "metadata": {
    "slideshow": {
     "slide_type": "slide"
    }
   },
   "source": [
    "# Review: Additive Models\n",
    "\n",
    "Boosting can be seen as a way of fitting an *additive model*:\n",
    "$$ f(x) = \\sum_{t=1}^T \\alpha_t g(x; \\phi_t). $$"
   ]
  },
  {
   "cell_type": "markdown",
   "metadata": {
    "slideshow": {
     "slide_type": "fragment"
    }
   },
   "source": [
    "* The main model $f(x)$ consists of $T$ smaller models $g$ with weights $\\alpha_t$ and paramaters $\\phi_t$."
   ]
  },
  {
   "cell_type": "markdown",
   "metadata": {
    "slideshow": {
     "slide_type": "fragment"
    }
   },
   "source": [
    "* The parameters are the $\\alpha_t$ plus the parameters $\\phi_t$ of each $g$."
   ]
  },
  {
   "cell_type": "markdown",
   "metadata": {
    "slideshow": {
     "slide_type": "fragment"
    }
   },
   "source": [
    "This is not a linear model, because $g$ can be non-linear in $\\phi_t$ (therefore so is $f$)."
   ]
  },
  {
   "cell_type": "markdown",
   "metadata": {
    "slideshow": {
     "slide_type": "slide"
    }
   },
   "source": [
    "# Review: Forward Stagewise Additive Modeling\n",
    "\n",
    "A general way to fit additive models is the forward stagewise approach."
   ]
  },
  {
   "cell_type": "markdown",
   "metadata": {
    "slideshow": {
     "slide_type": "fragment"
    }
   },
   "source": [
    "* Suppose we have a loss $L : \\mathcal{Y} \\times \\mathcal{Y} \\to [0, \\infty)$."
   ]
  },
  {
   "cell_type": "markdown",
   "metadata": {
    "slideshow": {
     "slide_type": "fragment"
    }
   },
   "source": [
    "* Start with $f_0 = \\arg \\min_\\phi \\sum_{i=1}^n L(y^{(i)}, g(x^{(i)}; \\phi))$."
   ]
  },
  {
   "cell_type": "markdown",
   "metadata": {
    "slideshow": {
     "slide_type": "fragment"
    }
   },
   "source": [
    "* At each iteration $t$ we fit the best addition to the current model.\n",
    "$$ \\alpha_t, \\phi_t = \\arg\\min_{\\alpha, \\phi} \\sum_{i=1}^n L(y^{(i)}, f_{t-1}(x^{(i)}) + \\alpha g(x^{(i)}; \\phi))$$"
   ]
  },
  {
   "cell_type": "markdown",
   "metadata": {
    "slideshow": {
     "slide_type": "slide"
    }
   },
   "source": [
    "# Losses for Additive Models\n",
    "\n",
    "We have seen several losses that can be used with the forward stagewise additive approach.\n",
    "* The exponential loss $L(y,f) = \\exp(-yf)$ gives us Adaboost.\n",
    "* The log-loss $L(y,f) = \\log(1+\\exp(-2yf))$ is more robust to outliers.\n",
    "* The squared loss $L(y,f) = (y-f)^2$ can be used for regression."
   ]
  },
  {
   "cell_type": "markdown",
   "metadata": {
    "slideshow": {
     "slide_type": "slide"
    }
   },
   "source": [
    "# Limitations of Forward Stagewise Additive Modeling\n",
    "\n",
    "Forward stagewise additive modeling is not without limitations.\n",
    "* There may exist other losses for which it is complex to derive boosting-type weight update rules.\n",
    "* At each step, we may need to solve a costly optimization problem over $\\phi_t$.\n",
    "* Optimizing each $\\phi_t$ greedily may cause us to overfit."
   ]
  },
  {
   "cell_type": "markdown",
   "metadata": {
    "slideshow": {
     "slide_type": "slide"
    }
   },
   "source": [
    "# Functional Optimization\n",
    "\n",
    "Functional optimization offers a different angle on boosting algorithms and a recipe for new algorithms."
   ]
  },
  {
   "cell_type": "markdown",
   "metadata": {
    "slideshow": {
     "slide_type": "fragment"
    }
   },
   "source": [
    "* Consider optimizing a loss over arbitrary functions $f: \\mathcal{X} \\to \\mathcal{Y}$."
   ]
  },
  {
   "cell_type": "markdown",
   "metadata": {
    "slideshow": {
     "slide_type": "fragment"
    }
   },
   "source": [
    "* Functional optimization consists in solving the problem\n",
    "$$ \\min_f \\sum_{i=1}^n L(y^{(i)}, f(x^{(i)})). $$\n",
    "over the space of all possible $f$."
   ]
  },
  {
   "cell_type": "markdown",
   "metadata": {
    "slideshow": {
     "slide_type": "fragment"
    }
   },
   "source": [
    "* It's easiest to think about $f$ as an infinite dimensional vector indexed by $x \\in \\mathcal{X}$."
   ]
  },
  {
   "cell_type": "markdown",
   "metadata": {
    "slideshow": {
     "slide_type": "fragment"
    }
   },
   "source": [
    "To simplify our explanations, we will assume that there exists a true deterministic mapping\n",
    "$$f^* : \\mathcal{X} \\to \\mathcal{Y}$$\n",
    "between $\\mathcal{X}$ and $\\mathcal{Y}$, but the algorithm shown here works perfectly without this assumption."
   ]
  },
  {
   "cell_type": "markdown",
   "metadata": {
    "slideshow": {
     "slide_type": "slide"
    }
   },
   "source": [
    "# Functional Gradients\n",
    "\n",
    "Consider solving the optimization problem using gradient descent:\n",
    "$$J(f) = \\min_f \\sum_{i=1}^n L(y^{(i)}, f(x^{(i)})).$$\n",
    "\n",
    "We may define the functional gradient of this loss at $f_0$ as a function $\\nabla J(f_0) : \\mathcal{X} \\to \\mathbb{R}$\n",
    "$$\\nabla J(f_0)(x) = \\frac{\\partial L(\\text{y}, \\text{f})}{\\partial \\text{f}} \\bigg\\rvert_{\\text{f} = f_0(x), \\text{y} = f^*(x)}.$$"
   ]
  },
  {
   "cell_type": "markdown",
   "metadata": {
    "slideshow": {
     "slide_type": "subslide"
    }
   },
   "source": [
    "Let's make a few observations about the functional gradient\n",
    "$$\\nabla J(f_0)(x) = \\frac{\\partial L(\\text{y}, \\text{f})}{\\partial \\text{f}} \\bigg\\rvert_{\\text{f} = f_0(x), \\text{y} = f^*(x)}.$$"
   ]
  },
  {
   "cell_type": "markdown",
   "metadata": {
    "slideshow": {
     "slide_type": "fragment"
    }
   },
   "source": [
    "* It's an object indexed by $x \\in \\mathcal{X}$."
   ]
  },
  {
   "cell_type": "markdown",
   "metadata": {
    "slideshow": {
     "slide_type": "fragment"
    }
   },
   "source": [
    "* At each $x \\in \\mathcal{X}$, $\\nabla J(f_0)(x)$ tells us how to modify $f_0(x)$ to make $L(f^*(x), f_0(x))$ smaller."
   ]
  },
  {
   "cell_type": "markdown",
   "metadata": {
    "slideshow": {
     "slide_type": "skip"
    }
   },
   "source": [
    "* This is consistent with the fact that we are optimizing over a \"vector\" $f$, also indexed by $x \\in \\mathcal{X}$."
   ]
  },
  {
   "cell_type": "markdown",
   "metadata": {
    "slideshow": {
     "slide_type": "subslide"
    }
   },
   "source": [
    "This is best understood via a picture.\n",
    "\n",
    "<center><img width=100% src=\"https://kuleshov-group.github.io/aml-resources/img/functional_gradient.png\"></center>"
   ]
  },
  {
   "cell_type": "markdown",
   "metadata": {
    "slideshow": {
     "slide_type": "slide"
    }
   },
   "source": [
    "# Functional Gradient Descent\n",
    "\n",
    "We can optimize our objective using gradient descent in functional space via the usual update rule:\n",
    "$$f \\gets f - \\alpha \\nabla J(f).$$"
   ]
  },
  {
   "cell_type": "markdown",
   "metadata": {
    "slideshow": {
     "slide_type": "fragment"
    }
   },
   "source": [
    "As defined, this is not a practical algorithm:\n",
    "* Minimizing the objective is easy because it's unconstrained.\n",
    "* The optimal $f$ only fits the training data, and doesn't generalize.\n",
    "* We only know $J(f)$ at $n$ training points."
   ]
  },
  {
   "cell_type": "markdown",
   "metadata": {
    "slideshow": {
     "slide_type": "slide"
    }
   },
   "source": [
    "# Modeling Functional Gradients\n",
    "\n",
    "We will address this problem by learning a *model* of gradients."
   ]
  },
  {
   "cell_type": "markdown",
   "metadata": {
    "slideshow": {
     "slide_type": "fragment"
    }
   },
   "source": [
    "* In supervised learning, we only have access to $n$ data points that describe the true $\\mathcal{X} \\to \\mathcal{Y}$ mapping.\n",
    "* We learn a *model* $f_\\theta:\\mathcal{X} \\to \\mathcal{Y}$ within a class $\\mathcal{M}$ to approximate $f^*$.\n",
    "* The model extrapolates beyond the training set. Given enough datapoints, $f_\\theta$ learns a true mapping."
   ]
  },
  {
   "cell_type": "markdown",
   "metadata": {
    "slideshow": {
     "slide_type": "subslide"
    }
   },
   "source": [
    "We will apply the same idea to gradients. \n",
    "* We assume a model $g_\\theta : \\mathcal{X} \\to R$ of the functional gradient $\\nabla J(f)$ within a class $\\mathcal{M}$.\n",
    "\\begin{align*}\n",
    "g \\in \\mathcal{M} & & g \\approx \\nabla_\\textbf{f} J(\\textbf{f})\n",
    "\\end{align*}\n",
    "* The model extrapolates beyond the training set. Given enough datapoints, $g_\\theta$ learns $\\nabla J(f)$."
   ]
  },
  {
   "cell_type": "markdown",
   "metadata": {
    "slideshow": {
     "slide_type": "fragment"
    }
   },
   "source": [
    "Functional descent then has the form:\n",
    "$$\\underbrace{f(x)}_\\text{new function} \\gets \\underbrace{f(x) - \\alpha g(x)}_\\text{old function - gradient step}.$$\n",
    "If $g$ generalizes, this approximates $f \\gets f - \\alpha \\nabla J(f).$"
   ]
  },
  {
   "cell_type": "markdown",
   "metadata": {
    "slideshow": {
     "slide_type": "slide"
    }
   },
   "source": [
    "# Fitting Functional Gradients\n",
    "\n",
    "What does it mean to approximate a functional gradient $g \\approx \\nabla_\\textbf{f} J(\\textbf{f})$ in practice?\n",
    "We can use standard supervised learning. \n",
    "\n",
    "Suppose we have a fixed function $f$ and we want to estimate the functional gradient of $L$\n",
    "$$\\frac{\\partial L(\\text{y}, \\text{f})}{\\partial \\text{f}} \\bigg\\rvert_{\\text{f} = f_0(x), \\text{y} = f^*(x)}.$$\n",
    "at any $x \\in \\mathcal{X}$$"
   ]
  },
  {
   "cell_type": "markdown",
   "metadata": {
    "slideshow": {
     "slide_type": "subslide"
    }
   },
   "source": [
    "1. We define a loss $L_g$ (e.g., L2 loss) measure how well $g \\approx \\nabla J(f)$."
   ]
  },
  {
   "cell_type": "markdown",
   "metadata": {
    "slideshow": {
     "slide_type": "fragment"
    }
   },
   "source": [
    "2. We compute $\\nabla_\\textbf{f} J(\\textbf{f})$ on the training dataset:\n",
    "$$\\mathcal{D}_g = \\left\\{ \\left(x^{(i)}, \\underbrace{\\frac{\\partial L(y^{(i)}, \\text{f})}{\\partial \\text{f}} \\bigg\\rvert_{\\text{f} = f(x^{(i)})}}_\\text{functional derivative $\\nabla_\\textbf{f} J(\\textbf{f})_i$ at $f(x^{(i)})$} \\right), i=1,2,\\ldots,n \\right\\} $$"
   ]
  },
  {
   "cell_type": "markdown",
   "metadata": {
    "slideshow": {
     "slide_type": "fragment"
    }
   },
   "source": [
    "3. We train a model $g : \\mathcal{X} \\to \\mathbb{R}$ on $\\mathcal{D}_g$ to predict functional gradients at any $x$:\n",
    "$$ g(x) \\approx \\frac{\\partial L(\\text{y}, \\text{f})}{\\partial \\text{f}} \\bigg\\rvert_{\\text{f} = f_0(x), \\text{y} = f^*(x)}.$$"
   ]
  },
  {
   "cell_type": "markdown",
   "metadata": {
    "slideshow": {
     "slide_type": "slide"
    }
   },
   "source": [
    "# Gradient Boosting\n",
    "\n",
    "Gradient boosting is a procedure that performs functional gradient descent with approximate gradients.\n",
    "\n",
    "Start with $f(x) = 0$. Then, at each step $t>1$:"
   ]
  },
  {
   "cell_type": "markdown",
   "metadata": {
    "slideshow": {
     "slide_type": "fragment"
    }
   },
   "source": [
    "1. Create a training dataset $\\mathcal{D}_g$ and fit $g_t(x^{(i)})$ using loss $L_g$:\n",
    "$$ g_t(x) \\approx \\frac{\\partial L(\\text{y}, \\text{f})}{\\partial \\text{f}} \\bigg\\rvert_{\\text{f} = f_0(x), \\text{y} = f^*(x)}.$$"
   ]
  },
  {
   "cell_type": "markdown",
   "metadata": {
    "slideshow": {
     "slide_type": "fragment"
    }
   },
   "source": [
    "2. Take a step of gradient descent using approximate gradients:\n",
    "$$f_t(x) = f_{t-1}(x) - \\alpha \\cdot g_t(x).$$"
   ]
  },
  {
   "cell_type": "markdown",
   "metadata": {
    "slideshow": {
     "slide_type": "slide"
    }
   },
   "source": [
    "# Interpreting Gradient Boosting\n",
    "\n",
    "Notice how after $T$ steps we get an additive model of the form\n",
    "$$ f(x) = \\sum_{t=1}^T \\alpha_t g_t(x). $$\n",
    "This looks like the output of a boosting algorithm!"
   ]
  },
  {
   "cell_type": "markdown",
   "metadata": {
    "slideshow": {
     "slide_type": "fragment"
    }
   },
   "source": [
    "* This works for any differentiable loss $L$.\n",
    "* It does not require any mathematical derivations for new $L$."
   ]
  },
  {
   "cell_type": "markdown",
   "metadata": {
    "slideshow": {
     "slide_type": "slide"
    }
   },
   "source": [
    "# Boosting vs. Gradient Boosting\n",
    "\n",
    "Consider, for example, L2Boost, which optimizes the L2 loss\n",
    "$$ L(y, f) = \\frac{1}{2}(y-f)^2. $$"
   ]
  },
  {
   "cell_type": "markdown",
   "metadata": {
    "slideshow": {
     "slide_type": "fragment"
    }
   },
   "source": [
    "At step $t$ we minimize\n",
    "$$\\sum_{i=1}^n (r^{(i)}_t - g(x^{(i)}; \\phi))^2, $$\n",
    "where $r^{(i)}_t = y^{(i)} - f(x^{(i)})_{t-1}$ is the residual from the model at time $t-1$."
   ]
  },
  {
   "cell_type": "markdown",
   "metadata": {
    "slideshow": {
     "slide_type": "subslide"
    }
   },
   "source": [
    "Observe that the residual\n",
    "$$r^{(i)}_t = y^{(i)} - f(x^{(i)})_{t-1}$$\n",
    "is also the gradient of the $L2$ loss with respect to $f$ as $f(x^{(i)})$\n",
    "$$r^{(i)}_t = \\frac{\\partial L(y^{(i)}, \\text{f})}{\\partial \\text{f}} \\bigg\\rvert_{\\text{f} = f_0(x)}$$"
   ]
  },
  {
   "cell_type": "markdown",
   "metadata": {
    "slideshow": {
     "slide_type": "fragment"
    }
   },
   "source": [
    "Most boosting algorithms are special cases of gradient boosting in this way."
   ]
  },
  {
   "cell_type": "markdown",
   "metadata": {
    "slideshow": {
     "slide_type": "slide"
    }
   },
   "source": [
    "# Losses for Gradient Boosting\n",
    "\n",
    "Gradient boosting can optimize a wide range of losses.\n",
    "\n",
    "1. Regression losses:\n",
    "    * L2, L1, and Huber (L1/L2 interpolation) losses.\n",
    "    * Quantile loss: estimates quantiles of distribution of $p(y|x)$.\n",
    "2. Classification losses:\n",
    "    * Log-loss, softmax loss, exponential loss, negative binomial likelihood, etc."
   ]
  },
  {
   "cell_type": "markdown",
   "metadata": {
    "slideshow": {
     "slide_type": "slide"
    }
   },
   "source": [
    "# Practical Considerations\n",
    "\n",
    "When using gradient boosting these additional facts are useful:\n",
    "* We most often use small decision trees as the learner $g_t$. Thus, input pre-processing is minimal.\n",
    "* We can regularize by controlling tree size, step size $\\alpha$, and using *early stopping*.\n",
    "* We can scale-up gradient boosting to big data by subsampling data at each iteration (a form of *stochastic* gradient descent)."
   ]
  },
  {
   "cell_type": "markdown",
   "metadata": {
    "slideshow": {
     "slide_type": "slide"
    }
   },
   "source": [
    "# Algorithm: Gradient Boosting\n",
    "\n",
    "* __Type__: Supervised learning (classification and regression).\n",
    "* __Model family__: Ensembles of weak learners (often decision trees).\n",
    "* __Objective function__: Any differentiable loss function.\n",
    "* __Optimizer__: Gradient descent in functional space. Weak learner uses its own optimizer.\n",
    "* __Probabilistic interpretation__: None in general; certain losses may have one."
   ]
  },
  {
   "cell_type": "markdown",
   "metadata": {
    "slideshow": {
     "slide_type": "slide"
    }
   },
   "source": [
    "# Gradient Boosting: An Example\n",
    "\n",
    "Let's now try running Gradient Boosted Decision Trees on a small regression dataset."
   ]
  },
  {
   "cell_type": "markdown",
   "metadata": {
    "slideshow": {
     "slide_type": "subslide"
    }
   },
   "source": [
    "First we create the dataset."
   ]
  },
  {
   "cell_type": "code",
   "execution_count": 21,
   "metadata": {
    "slideshow": {
     "slide_type": "fragment"
    }
   },
   "outputs": [
    {
     "data": {
      "text/plain": [
       "[<matplotlib.lines.Line2D at 0x12ed61898>]"
      ]
     },
     "execution_count": 21,
     "metadata": {},
     "output_type": "execute_result"
    },
    {
     "data": {
      "image/png": "[encoded data removed]",
      "text/plain": [
       "<Figure size 864x288 with 1 Axes>"
      ]
     },
     "metadata": {
      "needs_background": "light"
     },
     "output_type": "display_data"
    }
   ],
   "source": [
    "# https://scikit-learn.org/stable/auto_examples/ensemble/plot_gradient_boosting_quantile.html\n",
    "X = np.atleast_2d(np.random.uniform(0, 10.0, size=100)).T\n",
    "X = X.astype(np.float32)\n",
    "\n",
    "# Create dataset\n",
    "f = lambda x: x * np.sin(x)\n",
    "y = f(X).ravel()\n",
    "dy = 1.5 + 1.0 * np.random.random(y.shape)\n",
    "noise = np.random.normal(0, dy)\n",
    "y += noise\n",
    "\n",
    "# Visualize it\n",
    "xx = np.atleast_2d(np.linspace(0, 10, 1000)).T\n",
    "plt.plot(xx, f(xx), 'g:', label=r'$f(x) = x\\,\\sin(x)$')\n",
    "plt.plot(X, y, 'b.', markersize=10, label=u'Observations')"
   ]
  },
  {
   "cell_type": "markdown",
   "metadata": {
    "slideshow": {
     "slide_type": "subslide"
    }
   },
   "source": [
    "Next, we train a GBDT regressor."
   ]
  },
  {
   "cell_type": "code",
   "execution_count": 19,
   "metadata": {
    "slideshow": {
     "slide_type": "fragment"
    }
   },
   "outputs": [
    {
     "data": {
      "text/plain": [
       "GradientBoostingRegressor(alpha=0.95, min_samples_leaf=9, min_samples_split=9,\n",
       "                          n_estimators=250)"
      ]
     },
     "execution_count": 19,
     "metadata": {},
     "output_type": "execute_result"
    }
   ],
   "source": [
    "from sklearn.ensemble import GradientBoostingRegressor\n",
    "\n",
    "alpha = 0.95\n",
    "clf = GradientBoostingRegressor(loss='ls', alpha=alpha,\n",
    "                                n_estimators=250, max_depth=3,\n",
    "                                learning_rate=.1, min_samples_leaf=9,\n",
    "                                min_samples_split=9)\n",
    "clf.fit(X, y)"
   ]
  },
  {
   "cell_type": "markdown",
   "metadata": {
    "slideshow": {
     "slide_type": "subslide"
    }
   },
   "source": [
    "We may now visualize its predictions"
   ]
  },
  {
   "cell_type": "code",
   "execution_count": 22,
   "metadata": {
    "slideshow": {
     "slide_type": "fragment"
    }
   },
   "outputs": [
    {
     "data": {
      "text/plain": [
       "[<matplotlib.lines.Line2D at 0x12c98e438>]"
      ]
     },
     "execution_count": 22,
     "metadata": {},
     "output_type": "execute_result"
    },
    {
     "data": {
      "image/png": "[encoded data removed]",
      "text/plain": [
       "<Figure size 864x288 with 1 Axes>"
      ]
     },
     "metadata": {
      "needs_background": "light"
     },
     "output_type": "display_data"
    }
   ],
   "source": [
    "y_pred = clf.predict(xx)\n",
    "plt.plot(xx, f(xx), 'g:', label=r'$f(x) = x\\,\\sin(x)$')\n",
    "plt.plot(X, y, 'b.', markersize=10, label=u'Observations')\n",
    "plt.plot(xx, y_pred, 'r-', label=u'Prediction')"
   ]
  },
  {
   "cell_type": "markdown",
   "metadata": {
    "slideshow": {
     "slide_type": "slide"
    }
   },
   "source": [
    "# Pros and Cons of Gradient Boosting\n",
    "\n",
    "Gradient boosted decision trees (GBTs) are one of the best off-the-shelf ML algorithms that exist, often on par with deep learning.\n",
    "* Attain state-of-the-art performance. GBTs have won the most Kaggle competitions. \n",
    "* Require little data pre-processing and tuning.\n",
    "* Work with any objective, including probabilistic ones.\n",
    "\n",
    "Their main limitations are:\n",
    "* GBTs don't work with unstructured data like images, audio.\n",
    "* Implementations not as flexible as modern neural net libraries."
   ]
  },
  {
   "cell_type": "code",
   "execution_count": null,
   "metadata": {},
   "outputs": [],
   "source": []
  },
  {
   "cell_type": "code",
   "execution_count": null,
   "metadata": {},
   "outputs": [],
   "source": []
  },
  {
   "cell_type": "code",
   "execution_count": null,
   "metadata": {},
   "outputs": [],
   "source": []
  },
  {
   "cell_type": "code",
   "execution_count": null,
   "metadata": {},
   "outputs": [],
   "source": []
  },
  {
   "cell_type": "code",
   "execution_count": null,
   "metadata": {},
   "outputs": [],
   "source": []
  },
  {
   "cell_type": "code",
   "execution_count": null,
   "metadata": {},
   "outputs": [],
   "source": []
  },
  {
   "cell_type": "code",
   "execution_count": null,
   "metadata": {},
   "outputs": [],
   "source": []
  },
  {
   "cell_type": "markdown",
   "metadata": {
    "slideshow": {
     "slide_type": "slide"
    }
   },
   "source": [
    "# Functional Optimization\n",
    "\n",
    "Functional optimization offers a different angle on boosting algorithms and a recipe for new algorithms."
   ]
  },
  {
   "cell_type": "markdown",
   "metadata": {
    "slideshow": {
     "slide_type": "fragment"
    }
   },
   "source": [
    "* Consider optimizing a loss over arbitrary functions $f: \\mathcal{X} \\to \\mathcal{Y}$."
   ]
  },
  {
   "cell_type": "markdown",
   "metadata": {
    "slideshow": {
     "slide_type": "fragment"
    }
   },
   "source": [
    "* Since we only have $n$ datapoints, this reduces to optimizing over vectors $\\textbf{f} \\in \\mathbb{R}^n$"
   ]
  },
  {
   "cell_type": "markdown",
   "metadata": {
    "slideshow": {
     "slide_type": "fragment"
    }
   },
   "source": [
    "* Thus, functional optimization consists in solving the problem\n",
    "$$ \\min_\\textbf{f} \\sum_{i=1}^n L(y^{(i)}, \\textbf{f}_i). $$"
   ]
  },
  {
   "cell_type": "markdown",
   "metadata": {
    "slideshow": {
     "slide_type": "slide"
    }
   },
   "source": [
    "# Functional Gradients\n",
    "\n",
    "Consider solving the optimization problem using gradient descent:\n",
    "$$J(\\textbf{f}) = \\min_\\textbf{f} \\sum_{i=1}^n L(y^{(i)}, \\textbf{f}_i).$$\n",
    "We may define the functional gradient of this loss as\n",
    "$$\\nabla_\\textbf{f} J(\\textbf{f}) = \\begin{bmatrix}\n",
    "\\frac{\\partial L(y^{(1)}, \\textbf{f}_1)}{\\partial \\textbf{f}_1} \\\\\n",
    "\\frac{\\partial L(y^{(2)}, \\textbf{f}_2)}{\\partial \\textbf{f}_2} \\\\\n",
    "\\vdots \\\\\n",
    "\\frac{\\partial L(y^{(n)}, \\textbf{f}_n)}{\\partial \\textbf{f}_n} \\\\\n",
    "\\end{bmatrix}.$$"
   ]
  },
  {
   "cell_type": "markdown",
   "metadata": {
    "slideshow": {
     "slide_type": "slide"
    }
   },
   "source": [
    "# Functional Gradient Descent\n",
    "\n",
    "We can optimize our objective using gradient descent in functional space via the usual update rule:\n",
    "$$\\textbf{f} \\gets \\textbf{f} - \\alpha \\nabla_\\textbf{f} J(\\textbf{f}).$$"
   ]
  },
  {
   "cell_type": "markdown",
   "metadata": {
    "slideshow": {
     "slide_type": "fragment"
    }
   },
   "source": [
    "As defined, this is not a practical algorithm:\n",
    "* Minimizing the objective is easy because it's unconstrained.\n",
    "* The optimal $\\textbf{f}$ only fits the training data, and doesn't generalize.\n",
    "* We want a way to optimize $J(\\textbf{f})$ at any $n$ training points."
   ]
  },
  {
   "cell_type": "markdown",
   "metadata": {
    "slideshow": {
     "slide_type": "slide"
    }
   },
   "source": [
    "# Modeling Functional Gradients\n",
    "\n",
    "We will address this problem by learning a *model* of gradients."
   ]
  },
  {
   "cell_type": "markdown",
   "metadata": {
    "slideshow": {
     "slide_type": "fragment"
    }
   },
   "source": [
    "<!-- In supervised learning, the mapping $F:\\mathcal{X} \\to \\mathcal{Y}$ could be arbitrary. We assume a *model* $f$ for $F$ within a class $\\mathcal{M}$. -->\n",
    "In supervised learning, we define a *model* $f:\\mathcal{X} \\to \\mathcal{Y}$ for $\\textbf{f}$ within a class $\\mathcal{M}$.\n",
    "\\begin{align*}\n",
    "f \\in \\mathcal{M} & & f \\approx \\textbf{f}\n",
    "\\end{align*}\n",
    "The model extrapolates beyond the training set and ensures we generalize."
   ]
  },
  {
   "cell_type": "markdown",
   "metadata": {
    "slideshow": {
     "slide_type": "subslide"
    }
   },
   "source": [
    "We will apply the same idea to gradients. We assume a model $g : \\mathcal{X} \\to R$ of the functional gradient $\\nabla_\\textbf{f} J(\\textbf{f})$ within a class $\\mathcal{M}$.\n",
    "\\begin{align*}\n",
    "g \\in \\mathcal{M} & & g \\approx \\nabla_\\textbf{f} J(\\textbf{f})\n",
    "\\end{align*}\n",
    "Our model of gradients can generalize beyond the training set."
   ]
  },
  {
   "cell_type": "markdown",
   "metadata": {
    "slideshow": {
     "slide_type": "fragment"
    }
   },
   "source": [
    "Functional descent then has the form:\n",
    "$$\\underbrace{f(x)}_\\text{new function} \\gets \\underbrace{f(x) - \\alpha g(x)}_\\text{old function - gradient step}.$$\n",
    "If $g$ generalizes, this approximates $\\textbf{f} \\gets \\textbf{f} - \\alpha \\nabla_\\textbf{f} J(\\textbf{f})$ at any $n$ points."
   ]
  },
  {
   "cell_type": "markdown",
   "metadata": {
    "slideshow": {
     "slide_type": "slide"
    }
   },
   "source": [
    "# Fitting Functional Gradients\n",
    "\n",
    "What does it mean to approximate a functional gradient $g \\approx \\nabla_\\textbf{f} J(\\textbf{f})$ in practice?\n",
    "We can use standard supervised learning. \n",
    "\n",
    "Suppose we have a fixed function $f$ and we want to estimate the functional gradient of $L$\n",
    "$$ \\frac{\\partial L(y, \\text{f})}{\\partial \\text{f}} \\bigg\\rvert_{\\text{f} = f(x)}$$\n",
    "at any value of $f(x)$."
   ]
  },
  {
   "cell_type": "markdown",
   "metadata": {
    "slideshow": {
     "slide_type": "subslide"
    }
   },
   "source": [
    "1. We define a loss $L_g$ (e.g., L2 loss) measure how well $g \\approx \\nabla_\\textbf{f} J(\\textbf{f})$."
   ]
  },
  {
   "cell_type": "markdown",
   "metadata": {
    "slideshow": {
     "slide_type": "fragment"
    }
   },
   "source": [
    "2. We compute $\\nabla_\\textbf{f} J(\\textbf{f})$ on the training dataset:\n",
    "$$\\mathcal{D}_g = \\left\\{ \\left(x^{(i)}, \\underbrace{\\frac{\\partial L(y, \\text{f})}{\\partial \\text{f}} \\bigg\\rvert_{\\text{f} = f(x^{(i)})}}_\\text{functional derivative $\\nabla_\\textbf{f} J(\\textbf{f})_i$ at $f(x^{(i)})$} \\right), i=1,2,\\ldots,n \\right\\} $$"
   ]
  },
  {
   "cell_type": "markdown",
   "metadata": {
    "slideshow": {
     "slide_type": "fragment"
    }
   },
   "source": [
    "3. We train a model $g : \\mathcal{X} \\to \\mathbb{R}$ on $\\mathcal{D}_g$ to predict functional gradients at any $x$:\n",
    "$$ g(x) \\approx \\frac{\\partial L(y, \\text{f})}{\\partial \\text{f}} \\bigg\\rvert_{\\text{f} = f(x)}$$"
   ]
  },
  {
   "cell_type": "markdown",
   "metadata": {
    "slideshow": {
     "slide_type": "slide"
    }
   },
   "source": [
    "# Gradient Boosting\n",
    "\n",
    "Gradient boosting is a procedure that performs functional gradient descent with approximate gradients.\n",
    "\n",
    "Start with $f(x) = 0$. Then, at each step $t>1$:"
   ]
  },
  {
   "cell_type": "markdown",
   "metadata": {
    "slideshow": {
     "slide_type": "fragment"
    }
   },
   "source": [
    "1. Create a training dataset $\\mathcal{D}_g$ and fit $g_t(x^{(i)})$ using loss $L_g$:\n",
    "$$ g_t(x) \\approx \\frac{\\partial L(y, \\text{f})}{\\partial \\text{f}} \\bigg\\rvert_{\\text{f} = f(x)}.$$"
   ]
  },
  {
   "cell_type": "markdown",
   "metadata": {
    "slideshow": {
     "slide_type": "fragment"
    }
   },
   "source": [
    "2. Take a step of gradient descent using approximate gradients:\n",
    "$$f_t(x) = f_{t-1}(x) - \\alpha \\cdot g_t(x).$$"
   ]
  },
  {
   "cell_type": "markdown",
   "metadata": {
    "slideshow": {
     "slide_type": "slide"
    }
   },
   "source": [
    "# Interpreting Gradient Boosting\n",
    "\n",
    "Notice how after $T$ steps we get an additive model of the form\n",
    "$$ f(x) = \\sum_{t=1}^T \\alpha_t g_t(x). $$\n",
    "This looks like the output of a boosting algorithm!"
   ]
  },
  {
   "cell_type": "markdown",
   "metadata": {
    "slideshow": {
     "slide_type": "fragment"
    }
   },
   "source": [
    "* This works for any differentiable loss $L$.\n",
    "* It does not require any mathematical derivations for new $L$."
   ]
  },
  {
   "cell_type": "markdown",
   "metadata": {
    "slideshow": {
     "slide_type": "slide"
    }
   },
   "source": [
    "# Losses for Gradient Boosting\n",
    "\n",
    "Gradient boosting can optimize a wide range of losses.\n",
    "\n",
    "1. Regression losses:\n",
    "    * L2, L1, and Huber (L1/L2 interpolation) losses.\n",
    "    * Quantile loss: estimates quantiles of distribution of $p(y|x)$.\n",
    "2. Classification losses:\n",
    "    * Log-loss, softmax loss, exponential loss, negative binomial likelihood, etc."
   ]
  },
  {
   "cell_type": "markdown",
   "metadata": {
    "slideshow": {
     "slide_type": "slide"
    }
   },
   "source": [
    "# Practical Considerations\n",
    "\n",
    "When using gradient boosting these additional facts are useful:\n",
    "* We most often use small decision trees as the learner $g_t$. Thus, input pre-processing is minimal.\n",
    "* We can regularize by controlling tree size, step size $\\alpha$, and using *early stopping*.\n",
    "* We can scale-up gradient boosting to big data by subsampling data at each iteration (a form of *stochastic* gradient descent)."
   ]
  },
  {
   "cell_type": "markdown",
   "metadata": {
    "slideshow": {
     "slide_type": "slide"
    }
   },
   "source": [
    "# Algorithm: Gradient Boosting\n",
    "\n",
    "* __Type__: Supervised learning (classification and regression).\n",
    "* __Model family__: Ensembles of weak learners (often decision trees).\n",
    "* __Objective function__: Any differentiable loss function.\n",
    "* __Optimizer__: Gradient descent in functional space. Weak learner uses its own optimizer.\n",
    "* __Probabilistic interpretation__: None in general; certain losses may have one."
   ]
  },
  {
   "cell_type": "markdown",
   "metadata": {
    "slideshow": {
     "slide_type": "slide"
    }
   },
   "source": [
    "# Gradient Boosting: An Example\n",
    "\n",
    "Let's now try running Gradient Boosted Decision Trees on a small regression dataset."
   ]
  },
  {
   "cell_type": "markdown",
   "metadata": {
    "slideshow": {
     "slide_type": "subslide"
    }
   },
   "source": [
    "First we create the dataset."
   ]
  },
  {
   "cell_type": "code",
   "execution_count": 21,
   "metadata": {
    "slideshow": {
     "slide_type": "fragment"
    }
   },
   "outputs": [
    {
     "data": {
      "text/plain": [
       "[<matplotlib.lines.Line2D at 0x12ed61898>]"
      ]
     },
     "execution_count": 21,
     "metadata": {},
     "output_type": "execute_result"
    },
    {
     "data": {
      "image/png": "[encoded data removed]",
      "text/plain": [
       "<Figure size 864x288 with 1 Axes>"
      ]
     },
     "metadata": {
      "needs_background": "light"
     },
     "output_type": "display_data"
    }
   ],
   "source": [
    "# https://scikit-learn.org/stable/auto_examples/ensemble/plot_gradient_boosting_quantile.html\n",
    "X = np.atleast_2d(np.random.uniform(0, 10.0, size=100)).T\n",
    "X = X.astype(np.float32)\n",
    "\n",
    "# Create dataset\n",
    "f = lambda x: x * np.sin(x)\n",
    "y = f(X).ravel()\n",
    "dy = 1.5 + 1.0 * np.random.random(y.shape)\n",
    "noise = np.random.normal(0, dy)\n",
    "y += noise\n",
    "\n",
    "# Visualize it\n",
    "xx = np.atleast_2d(np.linspace(0, 10, 1000)).T\n",
    "plt.plot(xx, f(xx), 'g:', label=r'$f(x) = x\\,\\sin(x)$')\n",
    "plt.plot(X, y, 'b.', markersize=10, label=u'Observations')"
   ]
  },
  {
   "cell_type": "markdown",
   "metadata": {
    "slideshow": {
     "slide_type": "subslide"
    }
   },
   "source": [
    "Next, we train a GBDT regressor."
   ]
  },
  {
   "cell_type": "code",
   "execution_count": 19,
   "metadata": {
    "slideshow": {
     "slide_type": "fragment"
    }
   },
   "outputs": [
    {
     "data": {
      "text/plain": [
       "GradientBoostingRegressor(alpha=0.95, min_samples_leaf=9, min_samples_split=9,\n",
       "                          n_estimators=250)"
      ]
     },
     "execution_count": 19,
     "metadata": {},
     "output_type": "execute_result"
    }
   ],
   "source": [
    "from sklearn.ensemble import GradientBoostingRegressor\n",
    "\n",
    "alpha = 0.95\n",
    "clf = GradientBoostingRegressor(loss='ls', alpha=alpha,\n",
    "                                n_estimators=250, max_depth=3,\n",
    "                                learning_rate=.1, min_samples_leaf=9,\n",
    "                                min_samples_split=9)\n",
    "clf.fit(X, y)"
   ]
  },
  {
   "cell_type": "markdown",
   "metadata": {
    "slideshow": {
     "slide_type": "subslide"
    }
   },
   "source": [
    "We may now visualize its predictions"
   ]
  },
  {
   "cell_type": "code",
   "execution_count": 22,
   "metadata": {
    "slideshow": {
     "slide_type": "fragment"
    }
   },
   "outputs": [
    {
     "data": {
      "text/plain": [
       "[<matplotlib.lines.Line2D at 0x12c98e438>]"
      ]
     },
     "execution_count": 22,
     "metadata": {},
     "output_type": "execute_result"
    },
    {
     "data": {
      "image/png": "[encoded data removed]",
      "text/plain": [
       "<Figure size 864x288 with 1 Axes>"
      ]
     },
     "metadata": {
      "needs_background": "light"
     },
     "output_type": "display_data"
    }
   ],
   "source": [
    "y_pred = clf.predict(xx)\n",
    "plt.plot(xx, f(xx), 'g:', label=r'$f(x) = x\\,\\sin(x)$')\n",
    "plt.plot(X, y, 'b.', markersize=10, label=u'Observations')\n",
    "plt.plot(xx, y_pred, 'r-', label=u'Prediction')"
   ]
  },
  {
   "cell_type": "markdown",
   "metadata": {
    "slideshow": {
     "slide_type": "slide"
    }
   },
   "source": [
    "# Pros and Cons of Gradient Boosting\n",
    "\n",
    "Gradient boosted decision trees (GBTs) are one of the best off-the-shelf ML algorithms that exist, often on par with deep learning.\n",
    "* Attain state-of-the-art performance. GBTs have won the most Kaggle competitions. \n",
    "* Require little data pre-processing and tuning.\n",
    "* Work with any objective, including probabilistic ones.\n",
    "\n",
    "Their main limitations are:\n",
    "* GBTs don't work with unstructured data like images, audio.\n",
    "* Implementations not as flexible as modern neural net libraries."
   ]
  }
 ],
 "metadata": {
  "accelerator": "GPU",
  "celltoolbar": "Slideshow",
  "colab": {
   "collapsed_sections": [],
   "name": "neural-ode.ipynb",
   "provenance": []
  },
  "kernelspec": {
   "display_name": "Python 3 (ipykernel)",
   "language": "python",
   "name": "python3"
  },
  "language_info": {
   "codemirror_mode": {
    "name": "ipython",
    "version": 3
   },
   "file_extension": ".py",
   "mimetype": "text/x-python",
   "name": "python",
   "nbconvert_exporter": "python",
   "pygments_lexer": "ipython3",
   "version": "3.7.11"
  },
  "rise": {
   "controlsTutorial": false,
   "height": 900,
   "help": false,
   "margin": 0,
   "maxScale": 2,
   "minScale": 0.2,
   "progress": true,
   "scroll": true,
   "theme": "simple",
   "width": 1200
  }
 },
 "nbformat": 4,
 "nbformat_minor": 1
}
